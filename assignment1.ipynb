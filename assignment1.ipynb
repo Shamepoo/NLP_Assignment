{
 "cells": [
  {
   "cell_type": "markdown",
   "metadata": {},
   "source": [
    "# [COM6513] Assignment 1: Text Classification with Logistic Regression\n",
    "\n",
    "### Instructor: Nikos Aletras\n",
    "\n",
    "\n",
    "The goal of this assignment is to develop and test two text classification systems: \n",
    "\n",
    "- **Task 1:** sentiment analysis, in particular to predict the sentiment of movie reviews, i.e. positive or negative (binary classification).\n",
    "- **Task 2:** topic classification, to predict whether a news article is about International issues, Sports or Business (multi-class classification).\n",
    "\n",
    "\n",
    "For that purpose, you will implement:\n",
    "\n",
    "\n",
    "- Text processing methods for extracting Bag-Of-Word features, using \n",
    "    - n-grams (BOW), i.e. unigrams, bigrams and trigrams to obtain vector representations of documents where n=1,2,3 respectively. Two vector weighting schemes should be tested: (1) raw frequencies (**3 marks**); (2) tf.idf (**1 mark**). \n",
    "    - character n-grams (BOCN). A character n-gram is a contiguous sequence of characters given a word, e.g. for n=2, 'coffee' is split into {'co', 'of', 'ff', 'fe', 'ee'}. Two vector weighting schemes should be tested: (1) raw frequencies (**3 marks**); (2) tf.idf (**1 mark**). **Tip: Note the large vocabulary size!** \n",
    "    - a combination of the two vector spaces (n-grams and character n-grams) choosing your best performing wighting respectively (i.e. raw or tfidf). (**3 marks**) **Tip: you should merge the two representations**\n",
    "\n",
    "\n",
    "\n",
    "- Binary Logistic Regression (LR) classifiers for Task 1 that will be able to accurately classify movie reviews trained with: \n",
    "    - (1) BOW-count (raw frequencies) \n",
    "    - (2) BOW-tfidf (tf.idf weighted)\n",
    "    - (3) BOCN-count\n",
    "    - (4) BOCN-tfidf\n",
    "    - (5) BOW+BOCN (best performing weighting; raw or tfidf)\n",
    "\n",
    "\n",
    "\n",
    "- Multiclass Logistic Regression classifiers for Task 2 that will be able to accurately classify news articles trained with:\n",
    "    - (1) BOW-count (raw frequencies) \n",
    "    - (2) BOW-tfidf (tf.idf weighted)\n",
    "    - (3) BOCN-count\n",
    "    - (4) BOCN-tfidf\n",
    "    - (5) BOW+BOCN (best performing weighting; raw or tfidf)\n",
    "\n",
    "\n",
    "\n",
    "- The Stochastic Gradient Descent (SGD) algorithm to estimate the parameters of your Logistic Regression models. Your SGD algorithm should:\n",
    "    - Minimise the Binary Cross-entropy loss function for Task 1 (**3 marks**)\n",
    "    - Minimise the Categorical Cross-entropy loss function for Task 2 (**3 marks**)\n",
    "    - Use L2 regularisation (**2 marks**)\n",
    "    - Perform multiple passes (epochs) over the training data (**1 mark**)\n",
    "    - Randomise the order of training data after each pass (**1 mark**)\n",
    "    - Stop training if the difference between the current and previous development loss is smaller than a threshold (**1 mark**)\n",
    "    - After each epoch print the training and development loss (**1 mark**)\n",
    "\n",
    "\n",
    "\n",
    "- Discuss how did you choose hyperparameters (e.g. learning rate and regularisation strength) for each LR model? You should use a table showing model performance using different set of hyperparameter values. (**5 marks; 2.5 for each task**). **Tip: Instead of using all possible combinations, you could perform a random sampling of combinations.**\n",
    "\n",
    "\n",
    "\n",
    "- After training each LR model, plot the learning process (i.e. training and validation loss in each epoch) using a line plot. Does your model underfit, overfit or is it about right? Explain why. (**2 marks**). \n",
    "\n",
    "\n",
    "\n",
    "- Identify and show the most important features (model interpretability) for each class (i.e. top-10 most positive and top-10 negative weights). Give the top 10 for each class and comment on whether they make sense (if they don't you might have a bug!).  If you were to apply the classifier into a different domain such laptop reviews or restaurant reviews, do you think these features would generalise well? Can you propose what features the classifier could pick up as important in the new domain? (**3 marks; 1.5 for each task**)\n",
    "\n",
    "\n",
    "\n",
    "- Provide well documented and commented code describing all of your choices. In general, you are free to make decisions about text processing (e.g. punctuation, numbers, vocabulary size) and hyperparameter values. We expect to see justifications and discussion for all of your choices (**5 marks**). \n",
    "\n",
    "\n",
    "\n",
    "- Provide efficient solutions by using Numpy arrays when possible. Executing the whole notebook with your code should not take more than 10 minutes on a any standard computer (e.g. Intel Core i5 CPU, 8 or 16GB RAM) excluding hyperparameter tuning runs. You can find tips in [Intro to Python for NLP](https://sheffieldnlp.github.io/com6513/assets/labs/a0_python_intro.pdf) (**2 marks**). \n",
    "\n",
    "\n",
    "\n",
    "\n",
    "\n",
    "\n",
    "\n",
    "\n",
    "### Data - Task 1 \n",
    "\n",
    "The data you will use for Task 1 are taken from here: [http://www.cs.cornell.edu/people/pabo/movie-review-data/](http://www.cs.cornell.edu/people/pabo/movie-review-data/) and you can find it in the `./data_sentiment` folder in CSV format:\n",
    "\n",
    "- `data_sentiment/train.csv`: contains 1,400 reviews, 700 positive (label: 1) and 700 negative (label: 0) to be used for training.\n",
    "- `data_sentiment/dev.csv`: contains 200 reviews, 100 positive and 100 negative to be used for hyperparameter selection and monitoring the training process.\n",
    "- `data_sentiment/test.csv`: contains 400 reviews, 200 positive and 200 negative to be used for testing.\n",
    "\n",
    "### Data - Task 2\n",
    "\n",
    "The data you will use for Task 2 is a subset of the [AG News Corpus](http://groups.di.unipi.it/~gulli/AG_corpus_of_news_articles.html) and you can find it in the `./data_topic` folder in CSV format:\n",
    "\n",
    "- `data_topic/train.csv`: contains 2,400 news, 800 for each class to be used for training.\n",
    "- `data_topic/dev.csv`: contains 150 news articles, 50 for each class to be used for hyperparameter selection and monitoring the training process.\n",
    "- `data_topic/test.csv`: contains 900 news articles, 300 for each class to be used for testing.\n",
    "\n",
    "\n",
    "### Submission Instructions\n",
    "\n",
    "You should submit a Jupyter Notebook file (assignment1.ipynb) and an exported PDF version (you can do it from Jupyter: `File->Download as->PDF via Latex` or you can print it as PDF using your browser).\n",
    "\n",
    "You are advised to follow the code structure given in this notebook by completing all given funtions. You can also write any auxilliary/helper functions (and arguments for the functions) that you might need but note that you can provide a full solution without any such functions. Similarly, you can just use only the packages imported below but you are free to use any functionality from the [Python Standard Library](https://docs.python.org/2/library/index.html), NumPy, SciPy (excluding built-in softmax funtcions) and Pandas. You are not allowed to use any third-party library such as Scikit-learn (apart from metric functions already provided), NLTK, Spacy, Keras etc.. You should mention if you've used Windows to write and test your code because we mostly use Unix based machines for marking (e.g. Ubuntu, MacOS). \n",
    "\n",
    "There is no single correct answer on what your accuracy should be, but correct implementations usually achieve F1-scores around 80\\% or higher. The quality of the analysis of the results is as important as the accuracy itself. \n",
    "\n",
    "This assignment will be marked out of 40. It is worth 40\\% of your final grade in the module.\n",
    "\n",
    "The deadline for this assignment is **23:59 on Fri, 25 Feb 2021** and it needs to be submitted via Blackboard. Standard departmental penalties for lateness will be applied. We use a range of strategies to **detect [unfair means](https://www.sheffield.ac.uk/ssid/unfair-means/index)**, including Turnitin which helps detect plagiarism. Use of unfair means would result in getting a failing grade.\n",
    "\n"
   ]
  },
  {
   "cell_type": "code",
   "execution_count": 1,
   "metadata": {
    "ExecuteTime": {
     "end_time": "2021-02-28T11:08:05.484836Z",
     "start_time": "2021-02-28T11:08:04.083560Z"
    }
   },
   "outputs": [],
   "source": [
    "import pandas as pd\n",
    "import numpy as np\n",
    "from collections import Counter\n",
    "import re\n",
    "import matplotlib.pyplot as plt\n",
    "from sklearn.metrics import accuracy_score, precision_score, recall_score, f1_score\n",
    "from math import log\n",
    "from scipy.sparse import *\n",
    "import random\n",
    "from tqdm import tqdm_notebook as tqdm\n",
    "\n",
    "# fixing random seed for reproducibility\n",
    "random.seed(123)\n",
    "np.random.seed(123)"
   ]
  },
  {
   "cell_type": "markdown",
   "metadata": {},
   "source": [
    "## Task 1: Binary classification"
   ]
  },
  {
   "cell_type": "markdown",
   "metadata": {},
   "source": [
    "## Load Raw texts and labels into arrays\n",
    "\n",
    "First, you need to load the training, development and test sets from their corresponding CSV files (tip: you can use Pandas dataframes)."
   ]
  },
  {
   "cell_type": "code",
   "execution_count": 46,
   "metadata": {
    "ExecuteTime": {
     "end_time": "2021-02-27T11:13:18.675142Z",
     "start_time": "2021-02-27T11:13:18.588169Z"
    }
   },
   "outputs": [],
   "source": [
    "# Read data.\n",
    "train_sen = pd.read_csv('data_sentiment/train.csv',header=None)\n",
    "dev_sen = pd.read_csv('data_sentiment/dev.csv',header=None)\n",
    "test_sen = pd.read_csv('data_sentiment/test.csv',header=None)"
   ]
  },
  {
   "cell_type": "markdown",
   "metadata": {},
   "source": [
    "If you use Pandas you can see a sample of the data."
   ]
  },
  {
   "cell_type": "markdown",
   "metadata": {},
   "source": [
    "The next step is to put the raw texts into Python lists and their corresponding labels into NumPy arrays:\n"
   ]
  },
  {
   "cell_type": "code",
   "execution_count": 47,
   "metadata": {
    "ExecuteTime": {
     "end_time": "2021-02-27T11:13:20.087148Z",
     "start_time": "2021-02-27T11:13:20.085145Z"
    }
   },
   "outputs": [],
   "source": [
    "#Data to numpy array.\n",
    "np_train_sen = train_sen.to_numpy()\n",
    "np_dev_sen = dev_sen.to_numpy()\n",
    "np_test_sen = test_sen.to_numpy()"
   ]
  },
  {
   "cell_type": "code",
   "execution_count": 48,
   "metadata": {
    "ExecuteTime": {
     "end_time": "2021-02-27T11:13:21.686051Z",
     "start_time": "2021-02-27T11:13:21.683049Z"
    }
   },
   "outputs": [],
   "source": [
    "# Read labels\n",
    "np_train_sen_label = np_train_sen[:,1].astype(np.float)\n",
    "np_dev_sen_label = np_dev_sen[:,1].astype(np.float)\n",
    "np_test_sen_label = np_test_sen[:,1].astype(np.float)"
   ]
  },
  {
   "cell_type": "markdown",
   "metadata": {},
   "source": [
    "# Vector Representations of Text \n",
    "\n",
    "\n",
    "To train and test Logisitc Regression models, you first need to obtain vector representations for all documents given a vocabulary of features (unigrams, bigrams, trigrams).\n",
    "\n",
    "\n",
    "## Text Pre-Processing Pipeline\n",
    "\n",
    "To obtain a vocabulary of features, you should: \n",
    "- tokenise all texts into a list of unigrams (tip: using a regular expression) \n",
    "- remove stop words (using the one provided or one of your preference) \n",
    "- compute bigrams, trigrams given the remaining unigrams (or character ngrams from the unigrams)\n",
    "- remove ngrams appearing in less than K documents\n",
    "- use the remaining to create a vocabulary of unigrams, bigrams and trigrams (or character n-grams). You can keep top N if you encounter memory issues.\n"
   ]
  },
  {
   "cell_type": "code",
   "execution_count": 2,
   "metadata": {
    "ExecuteTime": {
     "end_time": "2021-02-28T11:08:09.984628Z",
     "start_time": "2021-02-28T11:08:09.980624Z"
    }
   },
   "outputs": [],
   "source": [
    "stop_words = ['a','in','on','at','and','or', \n",
    "              'to', 'the', 'of', 'an', 'by', \n",
    "              'as', 'is', 'was', 'were', 'been', 'be', \n",
    "              'are','for', 'this', 'that', 'these', 'those', 'you', 'i',\n",
    "             'it', 'he', 'she', 'we', 'they' 'will', 'have', 'has',\n",
    "              'do', 'did', 'can', 'could', 'who', 'which', 'what', \n",
    "             'his', 'her', 'they', 'them', 'from', 'with', 'its']"
   ]
  },
  {
   "cell_type": "markdown",
   "metadata": {},
   "source": [
    "### N-gram extraction from a document\n",
    "\n",
    "You first need to implement the `extract_ngrams` function. It takes as input:\n",
    "- `x_raw`: a string corresponding to the raw text of a document\n",
    "- `ngram_range`: a tuple of two integers denoting the type of ngrams you want to extract, e.g. (1,2) denotes extracting unigrams and bigrams.\n",
    "- `token_pattern`: a string to be used within a regular expression to extract all tokens. Note that data is already tokenised so you could opt for a simple white space tokenisation.\n",
    "- `stop_words`: a list of stop words\n",
    "- `vocab`: a given vocabulary. It should be used to extract specific features.\n",
    "- `char_ngrams`: boolean. If true the function extracts character n-grams\n",
    "\n",
    "and returns:\n",
    "\n",
    "- `x': a list of all extracted features.\n",
    "\n",
    "See the examples below to see how this function should work."
   ]
  },
  {
   "cell_type": "code",
   "execution_count": 3,
   "metadata": {
    "ExecuteTime": {
     "end_time": "2021-02-28T11:08:10.932496Z",
     "start_time": "2021-02-28T11:08:10.926491Z"
    }
   },
   "outputs": [],
   "source": [
    "def extract_ngrams(x_raw, ngram_range=(1,3), token_pattern=r'', \n",
    "                   stop_words=[], vocab=set(), char_ngrams=False):\n",
    "    \n",
    "    x_raw = re.sub(token_pattern, ' ', x_raw)\n",
    "    tokens = []\n",
    "    res = []\n",
    "    \n",
    "    if char_ngrams:\n",
    "        for token in x_raw.split(\" \"):\n",
    "            if token != \"\" and token not in stop_words:\n",
    "                for letter in token:\n",
    "                    tokens.append(letter)\n",
    "    else:\n",
    "         for token in x_raw.split(\" \"):\n",
    "            if token != \"\" and token not in stop_words:\n",
    "                tokens.append(token)\n",
    "                \n",
    "    for i in range(ngram_range[0],ngram_range[1]+1):\n",
    "        ngrams = zip(*[tokens[j:] for j in range(i)])\n",
    "        x = [\" \".join(ngram) for ngram in ngrams]\n",
    "        for gram in x:\n",
    "            tup = tuple(gram.split(\" \"))\n",
    "            res.append(tup)\n",
    "    if vocab:\n",
    "        res = list(filter(lambda x:set(x).intersection(vocab),res))\n",
    "    return res"
   ]
  },
  {
   "cell_type": "markdown",
   "metadata": {},
   "source": [
    "Note that it is OK to represent n-grams using lists instead of tuples: e.g. `['great', ['great', 'movie']]`"
   ]
  },
  {
   "cell_type": "markdown",
   "metadata": {},
   "source": [
    "For extracting character n-grams the function should work as follows:"
   ]
  },
  {
   "cell_type": "code",
   "execution_count": 7,
   "metadata": {
    "ExecuteTime": {
     "end_time": "2021-02-26T15:31:23.545797Z",
     "start_time": "2021-02-26T15:31:23.540794Z"
    }
   },
   "outputs": [
    {
     "data": {
      "text/plain": [
       "[('m', 'o'),\n",
       " ('o', 'v'),\n",
       " ('v', 'i'),\n",
       " ('i', 'e'),\n",
       " ('m', 'o', 'v'),\n",
       " ('o', 'v', 'i'),\n",
       " ('v', 'i', 'e'),\n",
       " ('m', 'o', 'v', 'i'),\n",
       " ('o', 'v', 'i', 'e')]"
      ]
     },
     "execution_count": 7,
     "metadata": {},
     "output_type": "execute_result"
    }
   ],
   "source": [
    "extract_ngrams(\"movie\", \n",
    "               ngram_range=(2,4), \n",
    "               stop_words=[],\n",
    "               char_ngrams=False)"
   ]
  },
  {
   "cell_type": "markdown",
   "metadata": {},
   "source": [
    "### Create a vocabulary \n",
    "\n",
    "The `get_vocab` function will be used to (1) create a vocabulary of ngrams; (2) count the document frequencies of ngrams; (3) their raw frequency. It takes as input:\n",
    "- `X_raw`: a list of strings each corresponding to the raw text of a document\n",
    "- `ngram_range`: a tuple of two integers denoting the type of ngrams you want to extract, e.g. (1,2) denotes extracting unigrams and bigrams.\n",
    "- `token_pattern`: a string to be used within a regular expression to extract all tokens. Note that data is already tokenised so you could opt for a simple white space tokenisation.\n",
    "- `stop_words`: a list of stop words\n",
    "- `min_df`: keep ngrams with a minimum document frequency.\n",
    "- `keep_topN`: keep top-N more frequent ngrams.\n",
    "\n",
    "and returns:\n",
    "\n",
    "- `vocab`: a set of the n-grams that will be used as features.\n",
    "- `df`: a Counter (or dict) that contains ngrams as keys and their corresponding document frequency as values.\n",
    "- `ngram_counts`: counts of each ngram in vocab\n",
    "\n",
    "Hint: it should make use of the `extract_ngrams` function."
   ]
  },
  {
   "cell_type": "code",
   "execution_count": 49,
   "metadata": {
    "ExecuteTime": {
     "end_time": "2021-02-27T11:13:24.080112Z",
     "start_time": "2021-02-27T11:13:24.073106Z"
    }
   },
   "outputs": [],
   "source": [
    "def get_vocab(X_raw, ngram_range=(1,3), token_pattern=r'', \n",
    "              min_df=0, keep_topN=0, \n",
    "              stop_words=[],char_ngrams=False):\n",
    "    vocab = set()\n",
    "    df = {} \n",
    "    ngram_count_list = []\n",
    "    for i in range(len(X_raw)):\n",
    "        ngram = extract_ngrams(X_raw[i][0],\n",
    "                               ngram_range=ngram_range,\n",
    "                               token_pattern=token_pattern,\n",
    "                               stop_words=stop_words,\n",
    "                               char_ngrams=char_ngrams)\n",
    "        for gram in ngram:\n",
    "            df.setdefault(gram,1)\n",
    "            ngram_count_list.append(gram)\n",
    "        fre = vocab.intersection(set(ngram))\n",
    "        for word in fre:\n",
    "            df[word]+=1\n",
    "        vocab = vocab.union(set(ngram))\n",
    "    \n",
    "    ngram_counts = Counter(ngram_count_list)\n",
    "    if min_df:\n",
    "        df_copy = df.copy()\n",
    "        for k,v in df_copy.items():\n",
    "            if v<min_df:\n",
    "                del df[k] \n",
    "                \n",
    "    if keep_topN:\n",
    "        if keep_topN>len(df):\n",
    "            ngram_counts = sorted(ngram_counts.items(), key=lambda e:e[1], reverse=True)[:keep_topN]\n",
    "        else:\n",
    "            ngram_counts = sorted(ngram_counts.items(), key=lambda e:e[1], reverse=True)[:len(df)]\n",
    "    vocab = set(df.keys())\n",
    "    return vocab, df, ngram_counts"
   ]
  },
  {
   "cell_type": "markdown",
   "metadata": {},
   "source": [
    "Now you should use `get_vocab` to create your vocabulary and get document and raw frequencies of n-grams:"
   ]
  },
  {
   "cell_type": "code",
   "execution_count": 50,
   "metadata": {
    "ExecuteTime": {
     "end_time": "2021-02-27T11:15:15.086396Z",
     "start_time": "2021-02-27T11:13:30.634127Z"
    }
   },
   "outputs": [],
   "source": [
    "# The min_df is 5, Top_words is 300.\n",
    "vocab_sen_train_13, df_sen_train_13, ngram_counts_sen_trian_13 = get_vocab(np_train_sen,token_pattern=r'[^a-zA-Z0-9\\s]',stop_words=stop_words,min_df=5,keep_topN=300)"
   ]
  },
  {
   "cell_type": "markdown",
   "metadata": {},
   "source": [
    "Then, you need to create 2 dictionaries: (1) vocabulary id -> word; and  (2) word -> vocabulary id so you can use them for reference:"
   ]
  },
  {
   "cell_type": "code",
   "execution_count": 51,
   "metadata": {
    "ExecuteTime": {
     "end_time": "2021-02-27T11:15:16.718088Z",
     "start_time": "2021-02-27T11:15:16.707076Z"
    }
   },
   "outputs": [],
   "source": [
    "id2word = dict(enumerate(vocab_sen_train_13))\n",
    "word2id = dict(zip(id2word.values(),id2word))"
   ]
  },
  {
   "cell_type": "markdown",
   "metadata": {},
   "source": [
    "Now you should be able to extract n-grams for each text in the training, development and test sets:"
   ]
  },
  {
   "cell_type": "code",
   "execution_count": 52,
   "metadata": {
    "ExecuteTime": {
     "end_time": "2021-02-27T11:15:18.397164Z",
     "start_time": "2021-02-27T11:15:18.392201Z"
    }
   },
   "outputs": [],
   "source": [
    "# A function to extract ngrams from data.\n",
    "def ngram_list(X_raw, ngram_range=(1,3), token_pattern=r'', \n",
    "              stop_words=[],char_ngrams=False):\n",
    "    X_ngram = []\n",
    "    for i in range(len(X_raw)):\n",
    "        X_ngram.append(extract_ngrams(X_raw[i][0],\n",
    "                                   ngram_range=ngram_range,\n",
    "                                   token_pattern=token_pattern,\n",
    "                                   stop_words=stop_words,\n",
    "                                   char_ngrams=char_ngrams))\n",
    "    return X_ngram"
   ]
  },
  {
   "cell_type": "code",
   "execution_count": 53,
   "metadata": {
    "ExecuteTime": {
     "end_time": "2021-02-27T11:15:22.015073Z",
     "start_time": "2021-02-27T11:15:20.081665Z"
    }
   },
   "outputs": [],
   "source": [
    "X_ngram_sen_train_13 = ngram_list(np_train_sen,token_pattern=r'[^a-zA-Z0-9\\s]',stop_words=stop_words)\n",
    "X_ngram_sen_dev_13 = ngram_list(np_dev_sen,token_pattern=r'[^a-zA-Z0-9\\s]',stop_words=stop_words)\n",
    "X_ngram_sen_test_13 = ngram_list(np_test_sen,token_pattern=r'[^a-zA-Z0-9\\s]',stop_words=stop_words)"
   ]
  },
  {
   "cell_type": "markdown",
   "metadata": {},
   "source": [
    "## Vectorise documents "
   ]
  },
  {
   "cell_type": "markdown",
   "metadata": {},
   "source": [
    "Next, write a function `vectoriser` to obtain Bag-of-ngram representations for a list of documents. The function should take as input:\n",
    "- `X_ngram`: a list of texts (documents), where each text is represented as list of n-grams in the `vocab`\n",
    "- `vocab`: a set of n-grams to be used for representing the documents\n",
    "\n",
    "and return:\n",
    "- `X_vec`: an array with dimensionality Nx|vocab| where N is the number of documents and |vocab| is the size of the vocabulary. Each element of the array should represent the frequency of a given n-gram in a document.\n"
   ]
  },
  {
   "cell_type": "code",
   "execution_count": 4,
   "metadata": {
    "ExecuteTime": {
     "end_time": "2021-02-28T11:08:16.593887Z",
     "start_time": "2021-02-28T11:08:16.589883Z"
    }
   },
   "outputs": [],
   "source": [
    "def vectorise(X_ngram, vocab):\n",
    "    X_vec = np.zeros((len(X_ngram),len(vocab)))\n",
    "    for docid,ngram in enumerate(X_ngram):\n",
    "        counter = Counter(ngram)\n",
    "        for k in counter:\n",
    "            if k in vocab:\n",
    "                X_vec[docid,vocab[k]] = counter[k]\n",
    "    return X_vec"
   ]
  },
  {
   "cell_type": "markdown",
   "metadata": {},
   "source": [
    "Finally, use `vectorise` to obtain document vectors for each document in the train, development and test set. You should extract both count and tf.idf vectors respectively:"
   ]
  },
  {
   "cell_type": "markdown",
   "metadata": {},
   "source": [
    "#### Count vectors"
   ]
  },
  {
   "cell_type": "code",
   "execution_count": 123,
   "metadata": {
    "ExecuteTime": {
     "end_time": "2021-02-27T12:21:46.993713Z",
     "start_time": "2021-02-27T12:21:46.102470Z"
    }
   },
   "outputs": [],
   "source": [
    "X_vec_sen_train_13 = vectorise(X_ngram_sen_train_13,word2id)\n",
    "X_vec_sen_dev_13 = vectorise(X_ngram_sen_dev_13,word2id)\n",
    "X_vec_sen_test_13 = vectorise(X_ngram_sen_test_13,word2id)"
   ]
  },
  {
   "cell_type": "markdown",
   "metadata": {},
   "source": [
    "#### TF.IDF vectors\n",
    "\n",
    "First compute `idfs` an array containing inverted document frequencies (Note: its elements should correspond to your `vocab`)"
   ]
  },
  {
   "cell_type": "code",
   "execution_count": 5,
   "metadata": {
    "ExecuteTime": {
     "end_time": "2021-02-28T11:08:17.411631Z",
     "start_time": "2021-02-28T11:08:17.407627Z"
    }
   },
   "outputs": [],
   "source": [
    "def computeTFIDF(X_vec,vocab,df):\n",
    "\n",
    "    num_docs = len(X_vec)\n",
    "    for docid in range(num_docs):\n",
    "        for k in vocab:\n",
    "            if k in df:\n",
    "                X_vec[docid,vocab[k]] *= log(num_docs/df[k]+1)\n",
    "    return X_vec"
   ]
  },
  {
   "cell_type": "markdown",
   "metadata": {},
   "source": [
    "Then transform your count vectors to tf.idf vectors:"
   ]
  },
  {
   "cell_type": "code",
   "execution_count": 124,
   "metadata": {
    "ExecuteTime": {
     "end_time": "2021-02-27T12:22:34.202008Z",
     "start_time": "2021-02-27T12:21:50.830130Z"
    }
   },
   "outputs": [],
   "source": [
    "X_tfidf_vec_train_13 = computeTFIDF(X_vec_sen_train_13,word2id,df_sen_train_13)\n",
    "X_tfidf_vec_dev_13 = computeTFIDF(X_vec_sen_dev_13,word2id,df_sen_train_13)\n",
    "X_tfidf_vec_test_13 = computeTFIDF(X_vec_sen_test_13,word2id,df_sen_train_13)"
   ]
  },
  {
   "cell_type": "markdown",
   "metadata": {},
   "source": [
    "# Binary Logistic Regression\n",
    "\n",
    "After obtaining vector representations of the data, now you are ready to implement Binary Logistic Regression for classifying sentiment."
   ]
  },
  {
   "cell_type": "markdown",
   "metadata": {},
   "source": [
    "First, you need to implement the `sigmoid` function. It takes as input:\n",
    "\n",
    "- `z`: a real number or an array of real numbers \n",
    "\n",
    "and returns:\n",
    "\n",
    "- `sig`: the sigmoid of `z`"
   ]
  },
  {
   "cell_type": "code",
   "execution_count": 56,
   "metadata": {
    "ExecuteTime": {
     "end_time": "2021-02-27T11:16:11.076216Z",
     "start_time": "2021-02-27T11:16:11.074225Z"
    }
   },
   "outputs": [],
   "source": [
    "def sigmoid(z):\n",
    "    sig = 1/(1+np.exp(-z))\n",
    "    return sig"
   ]
  },
  {
   "cell_type": "markdown",
   "metadata": {},
   "source": [
    "Then, implement the `predict_proba` function to obtain prediction probabilities. It takes as input:\n",
    "\n",
    "- `X`: an array of inputs, i.e. documents represented by bag-of-ngram vectors ($N \\times |vocab|$)\n",
    "- `weights`: a 1-D array of the model's weights $(1, |vocab|)$\n",
    "\n",
    "and returns:\n",
    "\n",
    "- `preds_proba`: the prediction probabilities of X given the weights"
   ]
  },
  {
   "cell_type": "code",
   "execution_count": 57,
   "metadata": {
    "ExecuteTime": {
     "end_time": "2021-02-27T11:16:14.698587Z",
     "start_time": "2021-02-27T11:16:14.695584Z"
    }
   },
   "outputs": [],
   "source": [
    "def predict_proba(X, weights):\n",
    "    preds_proba = sigmoid(X@weights)\n",
    "    return preds_proba"
   ]
  },
  {
   "cell_type": "markdown",
   "metadata": {},
   "source": [
    "Then, implement the `predict_class` function to obtain the most probable class for each vector in an array of input vectors. It takes as input:\n",
    "\n",
    "- `X`: an array of documents represented by bag-of-ngram vectors ($N \\times |vocab|$)\n",
    "- `weights`: a 1-D array of the model's weights $(1, |vocab|)$\n",
    "\n",
    "and returns:\n",
    "\n",
    "- `preds_class`: the predicted class for each x in X given the weights"
   ]
  },
  {
   "cell_type": "code",
   "execution_count": 58,
   "metadata": {
    "ExecuteTime": {
     "end_time": "2021-02-27T11:16:18.326181Z",
     "start_time": "2021-02-27T11:16:18.322177Z"
    }
   },
   "outputs": [],
   "source": [
    "def predict_class(X, weights):\n",
    "    prediction = predict_proba(X,weights)\n",
    "    preds_class = np.zeros(len(prediction))\n",
    "    for i in range(len(prediction)):\n",
    "        if prediction[i]>0.5:\n",
    "            preds_class[i] = 1\n",
    "    return preds_class"
   ]
  },
  {
   "cell_type": "markdown",
   "metadata": {},
   "source": [
    "To learn the weights from data, we need to minimise the binary cross-entropy loss. Implement `binary_loss` that takes as input:\n",
    "\n",
    "- `X`: input vectors\n",
    "- `Y`: labels\n",
    "- `weights`: model weights\n",
    "- `alpha`: regularisation strength\n",
    "\n",
    "and return:\n",
    "\n",
    "- `l`: the loss score"
   ]
  },
  {
   "cell_type": "code",
   "execution_count": 145,
   "metadata": {
    "ExecuteTime": {
     "end_time": "2021-02-27T13:09:15.458790Z",
     "start_time": "2021-02-27T13:09:15.452476Z"
    }
   },
   "outputs": [],
   "source": [
    "def binary_loss(X, Y, weights, alpha=0.00001):\n",
    "    '''\n",
    "    Binary Cross-entropy Loss\n",
    "\n",
    "    X:(len(X),len(vocab))\n",
    "    Y: array len(Y)\n",
    "    weights: array len(X)\n",
    "    '''\n",
    "    \n",
    "    l = 0\n",
    "    proba = predict_proba(X,weights)\n",
    "    pre_label = predict_class(X,weights).astype(int)\n",
    "    \n",
    "    num_docs = len(proba)\n",
    "    num_features = len(weights)\n",
    "    \n",
    "    proba = np.clip(proba,1e-8,1-1e-8)\n",
    "    \n",
    "    for i in range(num_docs):\n",
    "        if pre_label[i]==1:\n",
    "            l+=-np.log(proba[i]) + alpha*np.linalg.norm(weights)/(num_features*2)\n",
    "        else:\n",
    "            l+=-np.log(1-proba[i]) + alpha*np.linalg.norm(weights)/(num_features*2)\n",
    "    l /= num_docs\n",
    "    return l"
   ]
  },
  {
   "cell_type": "markdown",
   "metadata": {},
   "source": [
    "Now, you can implement Stochastic Gradient Descent to learn the weights of your sentiment classifier. The `SGD` function takes as input:\n",
    "\n",
    "- `X_tr`: array of training data (vectors)\n",
    "- `Y_tr`: labels of `X_tr`\n",
    "- `X_dev`: array of development (i.e. validation) data (vectors)\n",
    "- `Y_dev`: labels of `X_dev`\n",
    "- `lr`: learning rate\n",
    "- `alpha`: regularisation strength\n",
    "- `epochs`: number of full passes over the training data\n",
    "- `tolerance`: stop training if the difference between the current and previous validation loss is smaller than a threshold\n",
    "- `print_progress`: flag for printing the training progress (train/validation loss)\n",
    "\n",
    "\n",
    "and returns:\n",
    "\n",
    "- `weights`: the weights learned\n",
    "- `training_loss_history`: an array with the average losses of the whole training set after each epoch\n",
    "- `validation_loss_history`: an array with the average losses of the whole development set after each epoch"
   ]
  },
  {
   "cell_type": "code",
   "execution_count": 60,
   "metadata": {
    "ExecuteTime": {
     "end_time": "2021-02-27T11:16:25.539911Z",
     "start_time": "2021-02-27T11:16:25.532918Z"
    }
   },
   "outputs": [],
   "source": [
    "def SGD(X_tr, Y_tr, X_dev=[], Y_dev=[], lr=0.1, \n",
    "        alpha=0.00001, epochs=5, \n",
    "        tolerance=0.0001, print_progress=True):\n",
    "    \n",
    "    \n",
    "    \n",
    "    weights = np.random.randn(X_tr.shape[1],1)\n",
    "    \n",
    "    train_num_docs = len(Y_tr)\n",
    "    dev_num_docs = len(Y_dev)\n",
    "    num_feature = len(weights)\n",
    "    \n",
    "    training_loss_history = np.zeros(epochs)\n",
    "    validation_loss_history = np.zeros(epochs)\n",
    "    \n",
    "    \n",
    "    for epoch in tqdm(range(epochs)):\n",
    "        train_loss = 0\n",
    "        dev_loss = 0\n",
    "        train_rand_ind = np.random.permutation(train_num_docs)\n",
    "        dev_rand_ind = np.random.permutation(dev_num_docs)\n",
    "\n",
    "        prediction = predict_proba(X_tr,weights)\n",
    "\n",
    "        for index in train_rand_ind:\n",
    "            data = X_tr[index]\n",
    "            label = Y_tr[index]\n",
    "            prediction = predict_proba(data,weights)\n",
    "            weights = weights -  lr * (data.reshape(-1,1)*(prediction-label) + alpha*np.linalg.norm(weights)/(train_num_docs*num_feature))\n",
    "            train_loss += binary_loss(data,label,weights,alpha=alpha)/train_num_docs\n",
    "\n",
    "        \n",
    "        temp = binary_loss(X_dev,Y_dev,weights,alpha=alpha)/dev_num_docs\n",
    "\n",
    "        if abs(temp-dev_loss)<tolerance:\n",
    "            break\n",
    "\n",
    "        \n",
    "        dev_loss = temp\n",
    "\n",
    "        if print_progress:\n",
    "            print('training loss:', train_loss)\n",
    "            print('dev loss:', dev_loss)\n",
    "\n",
    "        training_loss_history[epoch] = train_loss\n",
    "        validation_loss_history[epoch] = dev_loss\n",
    "        \n",
    "    return weights, training_loss_history, validation_loss_history"
   ]
  },
  {
   "cell_type": "markdown",
   "metadata": {},
   "source": [
    "## Train and Evaluate Logistic Regression with Count vectors\n",
    "\n",
    "First train the model using SGD:"
   ]
  },
  {
   "cell_type": "code",
   "execution_count": 299,
   "metadata": {
    "ExecuteTime": {
     "end_time": "2021-02-26T14:43:59.424970Z",
     "start_time": "2021-02-26T14:43:57.046806Z"
    }
   },
   "outputs": [
    {
     "name": "stderr",
     "output_type": "stream",
     "text": [
      "<ipython-input-63-1c3774fa4331>:17: TqdmDeprecationWarning: This function will be removed in tqdm==5.0.0\n",
      "Please use `tqdm.notebook.tqdm` instead of `tqdm.tqdm_notebook`\n",
      "  for epoch in tqdm(range(epochs)):\n"
     ]
    },
    {
     "data": {
      "application/vnd.jupyter.widget-view+json": {
       "model_id": "ca9e2c9698f04979b97092a30b23bfa0",
       "version_major": 2,
       "version_minor": 0
      },
      "text/plain": [
       "HBox(children=(FloatProgress(value=0.0, max=10.0), HTML(value='')))"
      ]
     },
     "metadata": {},
     "output_type": "display_data"
    },
    {
     "name": "stderr",
     "output_type": "stream",
     "text": [
      "<ipython-input-20-81448163ac20>:2: RuntimeWarning: overflow encountered in exp\n",
      "  sig = 1/(1+np.exp(-z))\n"
     ]
    },
    {
     "name": "stdout",
     "output_type": "stream",
     "text": [
      "training loss: 0.0007941453081918826\n",
      "dev loss: [3.76807198e-05]\n",
      "training loss: 3.509959490078744e-05\n",
      "dev loss: [5.57164676e-05]\n",
      "training loss: 3.401208465908561e-05\n",
      "dev loss: [5.15138397e-05]\n",
      "training loss: 2.115348668876703e-05\n",
      "dev loss: [4.20786614e-06]\n",
      "training loss: 1.5589106382430818e-05\n",
      "dev loss: [3.91054849e-06]\n",
      "training loss: 1.3917548818781185e-05\n",
      "dev loss: [3.9034971e-06]\n",
      "training loss: 1.247196332871564e-05\n",
      "dev loss: [3.89765326e-06]\n",
      "training loss: 1.1313705715875095e-05\n",
      "dev loss: [3.89265162e-06]\n",
      "training loss: 1.0361143191367417e-05\n",
      "dev loss: [3.88824734e-06]\n",
      "training loss: 9.562744741742247e-06\n",
      "dev loss: [3.88431312e-06]\n",
      "\n"
     ]
    }
   ],
   "source": [
    "w_count, tlh_count, vlh_count = SGD(X_vec_sen_train_13,np_train_sen_label,X_vec_sen_dev_13,np_dev_sen_label,lr=0.04,alpha=1e-5,epochs=10,tolerance=1e-7)"
   ]
  },
  {
   "cell_type": "markdown",
   "metadata": {},
   "source": [
    "Now plot the training and validation history per epoch for the best hyperparameter combination. Does your model underfit, overfit or is it about right? Explain why."
   ]
  },
  {
   "cell_type": "code",
   "execution_count": 300,
   "metadata": {
    "ExecuteTime": {
     "end_time": "2021-02-26T14:44:01.785135Z",
     "start_time": "2021-02-26T14:44:01.692051Z"
    }
   },
   "outputs": [
    {
     "data": {
      "image/png": "[encoded data removed]",
      "text/plain": [
       "<Figure size 432x288 with 1 Axes>"
      ]
     },
     "metadata": {
      "needs_background": "light"
     },
     "output_type": "display_data"
    }
   ],
   "source": [
    "plt.plot(np.arange(10),tlh_count,label='Training Loss')\n",
    "plt.plot(np.arange(10),vlh_count,label='Validation Loss')\n",
    "plt.title(\"BoW Count\")\n",
    "plt.legend()\n",
    "plt.show()"
   ]
  },
  {
   "cell_type": "markdown",
   "metadata": {
    "ExecuteTime": {
     "end_time": "2020-01-21T16:52:26.583150Z",
     "start_time": "2020-01-21T16:52:26.578754Z"
    }
   },
   "source": [
    "Explain here..."
   ]
  },
  {
   "cell_type": "markdown",
   "metadata": {
    "ExecuteTime": {
     "end_time": "2021-02-22T12:48:51.881792Z",
     "start_time": "2021-02-22T12:48:51.857771Z"
    }
   },
   "source": [
    "The model which uses the best hyperparameter combination(Alpha = 1e-5, Learning Rate = 0.04) does not underfit or overfit. The reason is that the training loss is always on a decreasing trend and does not have generalisation error. The reason of choosing this combination of hyperparameter combination are given in 3.1.1."
   ]
  },
  {
   "cell_type": "markdown",
   "metadata": {},
   "source": [
    "#### Evaluation\n",
    "\n",
    "Compute accuracy, precision, recall and F1-scores:"
   ]
  },
  {
   "cell_type": "code",
   "execution_count": 301,
   "metadata": {
    "ExecuteTime": {
     "end_time": "2021-02-26T14:44:04.080664Z",
     "start_time": "2021-02-26T14:44:04.068653Z"
    }
   },
   "outputs": [
    {
     "name": "stdout",
     "output_type": "stream",
     "text": [
      "Accuracy: 0.805\n",
      "Precision: 0.7932692307692307\n",
      "Recall: 0.825\n",
      "F1-Score: 0.8088235294117647\n"
     ]
    }
   ],
   "source": [
    "preds_te_count = predict_class(X_vec_sen_test_13, w_count)\n",
    "\n",
    "print('Accuracy:', accuracy_score(np_test_sen_label,preds_te_count))\n",
    "print('Precision:', precision_score(np_test_sen_label,preds_te_count))\n",
    "print('Recall:', recall_score(np_test_sen_label,preds_te_count))\n",
    "print('F1-Score:', f1_score(np_test_sen_label,preds_te_count))"
   ]
  },
  {
   "cell_type": "markdown",
   "metadata": {
    "ExecuteTime": {
     "end_time": "2021-02-26T11:22:28.295259Z",
     "start_time": "2021-02-26T11:22:28.290254Z"
    }
   },
   "source": [
    "BOW count model under different combination of hyperparameters.\n",
    "\n",
    "| Alpha | Learning Rate | Precision | Recall | F1-Score |\n",
    "|:-----:|:-------------:|:---------:|:------:|:--------:|\n",
    "|  1e-5 |      0.01     |   0.719   |  0.705 |   0.712  |\n",
    "|  1e-7 |      0.01     |    0.700    |  0.665 |   0.682  |\n",
    "|  1e-5 |      0.04     |   0.793  |  0.825 |   0.809  |\n",
    "|  1e-7 |      0.04     |    0.770   |  0.825 |   0.797  |"
   ]
  },
  {
   "cell_type": "markdown",
   "metadata": {},
   "source": [
    "###### Finally, print the top-10 words for the negative and positive class respectively."
   ]
  },
  {
   "cell_type": "code",
   "execution_count": 128,
   "metadata": {
    "ExecuteTime": {
     "end_time": "2021-02-26T11:38:49.844319Z",
     "start_time": "2021-02-26T11:38:49.840315Z"
    }
   },
   "outputs": [
    {
     "name": "stdout",
     "output_type": "stream",
     "text": [
      "('bad',)\n",
      "('harry',)\n",
      "('why',)\n",
      "('spawn',)\n",
      "('3',)\n",
      "('inept',)\n",
      "('hammond',)\n",
      "('script',)\n",
      "('white',)\n",
      "('played', 'character')\n"
     ]
    }
   ],
   "source": [
    "# Top 10 negative words.\n",
    "w_count = w_count.T[0]\n",
    "top_neg = w_count.argsort()[:10]\n",
    "for i in top_neg:\n",
    "    print(id2word[i])"
   ]
  },
  {
   "cell_type": "code",
   "execution_count": 129,
   "metadata": {
    "ExecuteTime": {
     "end_time": "2021-02-26T11:38:55.974097Z",
     "start_time": "2021-02-26T11:38:55.970094Z"
    }
   },
   "outputs": [
    {
     "name": "stdout",
     "output_type": "stream",
     "text": [
      "('cauldron',)\n",
      "('fun',)\n",
      "('jackie',)\n",
      "('haven', 't', 'seen')\n",
      "('great',)\n",
      "('pulp',)\n",
      "('truman',)\n",
      "('robin', 'hood')\n",
      "('stake',)\n",
      "('s', 'good')\n"
     ]
    }
   ],
   "source": [
    "# Top 10 positive words.\n",
    "top_pos = w_count.argsort()[::-1][:10]\n",
    "for i in top_pos:\n",
    "    print(id2word[i])"
   ]
  },
  {
   "cell_type": "markdown",
   "metadata": {},
   "source": [
    "If we were to apply the classifier we've learned into a different domain such laptop reviews or restaurant reviews, do you think these features would generalise well? Can you propose what features the classifier could pick up as important in the new domain?"
   ]
  },
  {
   "cell_type": "markdown",
   "metadata": {},
   "source": [
    "Provide your answer here...\n",
    "\n",
    "Some of the features would be generalised as well. For example, \"bad\" in negative class and \"great\",\"fun\" and \"'s','good'\" in postive class. But some of the features do not make sense,such as \"harry\",\"white\",\"jackie\" and so on."
   ]
  },
  {
   "cell_type": "markdown",
   "metadata": {},
   "source": [
    "### Discuss how did you choose model hyperparameters (e.g. learning rate and regularisation strength)? What is the relation between training epochs and learning rate? How the regularisation strength affects performance?"
   ]
  },
  {
   "cell_type": "markdown",
   "metadata": {},
   "source": [
    "Enter your answer here...\n",
    "\n",
    "1.The higher learning rate is,the faster the training loss decreases. But if the learning rate is too high, the training process would be stopped due to the tolerant setting.\n",
    "\n",
    "If the model has the tendency to overfit, increase the regularisation strength. If the model has the tendency to underfit, decrease the regularisation strength.\n",
    "\n",
    "2.Higher learning rate would casue the model learn faster from the features, which would cost less training epochs.\n",
    "\n",
    "3.The higher the regularisation strength in the regularisation, the smaller the value of the weight matrix in the model. There would be many hidden cells in the model with very small values of weights, and the influence of these hidden cells in the model become small. The model varies from over-fitted state to under-fitted state."
   ]
  },
  {
   "cell_type": "markdown",
   "metadata": {},
   "source": [
    "## Train and Evaluate Logistic Regression with TF.IDF vectors\n",
    "\n",
    "Follow the same steps as above (i.e. evaluating count n-gram representations).\n"
   ]
  },
  {
   "cell_type": "markdown",
   "metadata": {},
   "source": [
    "### Now repeat the training and evaluation process for BOW-tfidf, BOCN-count, BOCN-tfidf, BOW+BOCN including hyperparameter tuning for each model..."
   ]
  },
  {
   "cell_type": "markdown",
   "metadata": {},
   "source": [
    "#### BOW-tfidf"
   ]
  },
  {
   "cell_type": "code",
   "execution_count": 303,
   "metadata": {
    "ExecuteTime": {
     "end_time": "2021-02-26T14:55:02.948594Z",
     "start_time": "2021-02-26T14:55:00.693541Z"
    }
   },
   "outputs": [
    {
     "name": "stderr",
     "output_type": "stream",
     "text": [
      "<ipython-input-302-8384edcceb44>:17: TqdmDeprecationWarning: This function will be removed in tqdm==5.0.0\n",
      "Please use `tqdm.notebook.tqdm` instead of `tqdm.tqdm_notebook`\n",
      "  for epoch in tqdm(range(epochs)):\n"
     ]
    },
    {
     "data": {
      "application/vnd.jupyter.widget-view+json": {
       "model_id": "14daab6d70e546bb907f3e8a36939e95",
       "version_major": 2,
       "version_minor": 0
      },
      "text/plain": [
       "HBox(children=(FloatProgress(value=0.0, max=10.0), HTML(value='')))"
      ]
     },
     "metadata": {},
     "output_type": "display_data"
    },
    {
     "name": "stderr",
     "output_type": "stream",
     "text": [
      "<ipython-input-20-81448163ac20>:2: RuntimeWarning: overflow encountered in exp\n",
      "  sig = 1/(1+np.exp(-z))\n"
     ]
    },
    {
     "name": "stdout",
     "output_type": "stream",
     "text": [
      "training loss: 4.8506722460964825e-06\n",
      "dev loss: [3.54502045e-05]\n",
      "training loss: 2.059881281722277e-06\n",
      "dev loss: [2.20930399e-05]\n",
      "training loss: 2.659319754631025e-06\n",
      "dev loss: [1.95472767e-05]\n",
      "training loss: 1.2698757262788745e-06\n",
      "dev loss: [1.72109821e-05]\n",
      "training loss: 1.2087891929283576e-06\n",
      "dev loss: [2.40673586e-05]\n",
      "training loss: 1.2479349883581924e-07\n",
      "dev loss: [2.88325595e-05]\n",
      "training loss: 1.4765283244713456e-07\n",
      "dev loss: [1.72892956e-05]\n",
      "training loss: 1.4678470617741695e-07\n",
      "dev loss: [1.72755883e-05]\n",
      "training loss: 1.4579341224176102e-07\n",
      "dev loss: [1.72622378e-05]\n",
      "training loss: 1.4485026063428092e-07\n",
      "dev loss: [1.72492249e-05]\n",
      "\n"
     ]
    }
   ],
   "source": [
    "w_tfidf, tlh_tfidf, vlh_tfidf = SGD(X_tfidf_vec_train_13,np_train_sen_label,X_tfidf_vec_dev_13,np_dev_sen_label,lr=0.07,alpha=1e-5,epochs=10,tolerance=1e-6,print_progress = True)"
   ]
  },
  {
   "cell_type": "code",
   "execution_count": 272,
   "metadata": {
    "ExecuteTime": {
     "end_time": "2021-02-26T12:07:18.589440Z",
     "start_time": "2021-02-26T12:07:18.501361Z"
    }
   },
   "outputs": [
    {
     "data": {
      "image/png": "[encoded data removed]",
      "text/plain": [
       "<Figure size 432x288 with 1 Axes>"
      ]
     },
     "metadata": {
      "needs_background": "light"
     },
     "output_type": "display_data"
    }
   ],
   "source": [
    "plt.plot(np.arange(10),tlh_tfidf,label='Training Loss')\n",
    "plt.plot(np.arange(10),vlh_tfidf,label='Validation Loss')\n",
    "plt.title(\"BoW tfidf\")\n",
    "plt.legend()\n",
    "plt.show()"
   ]
  },
  {
   "cell_type": "markdown",
   "metadata": {},
   "source": [
    "The model which uses the best hyperparameter combination(Alpha = 1e-5, Learning Rate = 0.07) does not underfit or overfit. The reason is that the training loss is always on a decreasing trend and does not have generalisation error. The reason of choosing this combination of hyperparameter combination are given in 3.1.1."
   ]
  },
  {
   "cell_type": "code",
   "execution_count": 273,
   "metadata": {
    "ExecuteTime": {
     "end_time": "2021-02-26T12:07:20.863512Z",
     "start_time": "2021-02-26T12:07:20.853503Z"
    }
   },
   "outputs": [
    {
     "name": "stdout",
     "output_type": "stream",
     "text": [
      "Accuracy: 0.8175\n",
      "Precision: 0.812807881773399\n",
      "Recall: 0.825\n",
      "F1-Score: 0.8188585607940446\n"
     ]
    }
   ],
   "source": [
    "preds_te_tfidf = predict_class(X_tfidf_vec_test_13, w_tfidf)\n",
    "\n",
    "print('Accuracy:', accuracy_score(np_test_sen_label,preds_te_tfidf))\n",
    "print('Precision:', precision_score(np_test_sen_label,preds_te_tfidf))\n",
    "print('Recall:', recall_score(np_test_sen_label,preds_te_tfidf))\n",
    "print('F1-Score:', f1_score(np_test_sen_label,preds_te_tfidf))"
   ]
  },
  {
   "cell_type": "markdown",
   "metadata": {},
   "source": [
    "BOW tfidf model under different combination of hyperparameters.\n",
    "\n",
    "| Alpha | Learning Rate | Precision | Recall | F1-Score |\n",
    "|:-----:|:-------------:|:---------:|:------:|:--------:|\n",
    "|  1e-5 |      0.01     |   0.675   |  0.740 |  0.682  |\n",
    "|  1e-7 |      0.01     |   0.701   |  0.690 |  0.695  |\n",
    "|  1e-5 |      0.07     |   0.813   |  0.825 |   0.818  |\n",
    "|  1e-7 |      0.07     |   0.789   |  0.805 |   0.797  |"
   ]
  },
  {
   "cell_type": "code",
   "execution_count": 274,
   "metadata": {
    "ExecuteTime": {
     "end_time": "2021-02-26T12:08:34.496959Z",
     "start_time": "2021-02-26T12:08:34.492956Z"
    }
   },
   "outputs": [
    {
     "name": "stdout",
     "output_type": "stream",
     "text": [
      "('bad',)\n",
      "('dune',)\n",
      "('hammer',)\n",
      "('worst',)\n",
      "('why',)\n",
      "('3',)\n",
      "('boring',)\n",
      "('supposed',)\n",
      "('mess',)\n",
      "('butcher',)\n"
     ]
    }
   ],
   "source": [
    "# Top 10 negative words.\n",
    "w_tfidf = w_tfidf.T[0]\n",
    "top_neg = w_tfidf.argsort()[:10]\n",
    "for i in top_neg:\n",
    "    print(id2word[i])"
   ]
  },
  {
   "cell_type": "code",
   "execution_count": 275,
   "metadata": {
    "ExecuteTime": {
     "end_time": "2021-02-26T12:08:36.810064Z",
     "start_time": "2021-02-26T12:08:36.805060Z"
    }
   },
   "outputs": [
    {
     "name": "stdout",
     "output_type": "stream",
     "text": [
      "('trek',)\n",
      "('great',)\n",
      "('boogie',)\n",
      "('sweet',)\n",
      "('shaft',)\n",
      "('boogie', 'nights')\n",
      "('paulie',)\n",
      "('american',)\n",
      "('altman',)\n",
      "('spencer',)\n"
     ]
    }
   ],
   "source": [
    "# Top 10 positive words.\n",
    "top_pos = w_tfidf.argsort()[::-1][:10]\n",
    "for i in top_pos:\n",
    "    print(id2word[i])"
   ]
  },
  {
   "cell_type": "markdown",
   "metadata": {},
   "source": [
    "Some of the features would be generalised as well. For example, \"bad\",\"worst\",\"boring\" and \"mess\" in negative class and \"great\" and \"sweet\"  in postive class. But some of the features do not make sense,such as \"hammer\",\"3\",\"american\" and so on."
   ]
  },
  {
   "cell_type": "markdown",
   "metadata": {},
   "source": [
    "#### BOCN-count"
   ]
  },
  {
   "cell_type": "code",
   "execution_count": 126,
   "metadata": {
    "ExecuteTime": {
     "end_time": "2021-02-27T12:23:28.858666Z",
     "start_time": "2021-02-27T12:23:21.129899Z"
    }
   },
   "outputs": [],
   "source": [
    "# Extract character ngrams from data.\n",
    "X_ngram_sen_train_ch = ngram_list(np_train_sen,ngram_range=(2,4),token_pattern=r'[^a-zA-Z0-9\\s]',stop_words=stop_words,char_ngrams=True)\n",
    "X_ngram_sen_dev_ch = ngram_list(np_dev_sen,ngram_range=(2,4),token_pattern=r'[^a-zA-Z0-9\\s]',stop_words=stop_words,char_ngrams=True)\n",
    "X_ngram_sen_test_ch = ngram_list(np_test_sen,ngram_range=(2,4),token_pattern=r'[^a-zA-Z0-9\\s]',stop_words=stop_words,char_ngrams=True)"
   ]
  },
  {
   "cell_type": "code",
   "execution_count": 127,
   "metadata": {
    "ExecuteTime": {
     "end_time": "2021-02-27T12:24:26.745679Z",
     "start_time": "2021-02-27T12:23:42.796727Z"
    }
   },
   "outputs": [],
   "source": [
    "# The min_df is 5, Top_words is 300.\n",
    "vocab_sen_train_ch, df_sen_train_ch, ngram_counts_sen_trian_ch = get_vocab(np_train_sen,ngram_range=(2,4),token_pattern=r'[^a-zA-Z0-9\\s]',stop_words=stop_words,min_df=5,keep_topN=300,char_ngrams=True)"
   ]
  },
  {
   "cell_type": "code",
   "execution_count": 128,
   "metadata": {
    "ExecuteTime": {
     "end_time": "2021-02-27T12:24:40.874704Z",
     "start_time": "2021-02-27T12:24:40.849681Z"
    }
   },
   "outputs": [],
   "source": [
    "# Id word Dictionaries.\n",
    "id2word_ch = dict(enumerate(vocab_sen_train_ch))\n",
    "word2id_ch = dict(zip(id2word_ch.values(),id2word_ch))"
   ]
  },
  {
   "cell_type": "code",
   "execution_count": 133,
   "metadata": {
    "ExecuteTime": {
     "end_time": "2021-02-27T12:32:49.255650Z",
     "start_time": "2021-02-27T12:31:03.255658Z"
    }
   },
   "outputs": [],
   "source": [
    "# Vectorise count vectors and tfidf vectors.\n",
    "X_vec_sen_train_ch = vectorise(X_ngram_sen_train_ch,word2id_ch)\n",
    "X_vec_sen_dev_ch = vectorise(X_ngram_sen_dev_ch,word2id_ch)\n",
    "X_vec_sen_test_ch = vectorise(X_ngram_sen_test_ch,word2id_ch)\n",
    "X_tfidf_vec_train_ch = computeTFIDF(X_vec_sen_train_ch,word2id_ch,df_sen_train_ch)\n",
    "X_tfidf_vec_dev_ch = computeTFIDF(X_vec_sen_dev_ch,word2id_ch,df_sen_train_ch)\n",
    "X_tfidf_vec_test_ch = computeTFIDF(X_vec_sen_test_ch,word2id_ch,df_sen_train_ch)"
   ]
  },
  {
   "cell_type": "code",
   "execution_count": 136,
   "metadata": {
    "ExecuteTime": {
     "end_time": "2021-02-27T12:34:13.961066Z",
     "start_time": "2021-02-27T12:34:10.186359Z"
    },
    "scrolled": true
   },
   "outputs": [
    {
     "name": "stderr",
     "output_type": "stream",
     "text": [
      "<ipython-input-60-8384edcceb44>:17: TqdmDeprecationWarning: This function will be removed in tqdm==5.0.0\n",
      "Please use `tqdm.notebook.tqdm` instead of `tqdm.tqdm_notebook`\n",
      "  for epoch in tqdm(range(epochs)):\n"
     ]
    },
    {
     "data": {
      "application/vnd.jupyter.widget-view+json": {
       "model_id": "98f2e878fdd540728d6e40f1614025fc",
       "version_major": 2,
       "version_minor": 0
      },
      "text/plain": [
       "HBox(children=(FloatProgress(value=0.0, max=10.0), HTML(value='')))"
      ]
     },
     "metadata": {},
     "output_type": "display_data"
    },
    {
     "name": "stderr",
     "output_type": "stream",
     "text": [
      "<ipython-input-56-81448163ac20>:2: RuntimeWarning: overflow encountered in exp\n",
      "  sig = 1/(1+np.exp(-z))\n"
     ]
    },
    {
     "name": "stdout",
     "output_type": "stream",
     "text": [
      "training loss: 9.205628945298416e-06\n",
      "dev loss: [1.5053819e-05]\n",
      "training loss: 1.382647650909258e-07\n",
      "dev loss: [8.79119504e-06]\n",
      "training loss: 1.505059786460114e-06\n",
      "dev loss: [9.74590087e-06]\n",
      "training loss: 3.033227603392791e-07\n",
      "dev loss: [4.30332305e-06]\n",
      "training loss: 1.2435246286598078e-06\n",
      "dev loss: [2.85122134e-08]\n",
      "training loss: 7.031367273007702e-08\n",
      "dev loss: [3.96246945e-10]\n",
      "training loss: 6.921190671303084e-08\n",
      "dev loss: [3.0338347e-07]\n",
      "training loss: 6.928430796931098e-08\n",
      "dev loss: [3.03376707e-07]\n",
      "training loss: 6.928430791063803e-08\n",
      "dev loss: [3.03369945e-07]\n",
      "training loss: 6.928430784990115e-08\n",
      "dev loss: [3.03363183e-07]\n",
      "\n"
     ]
    }
   ],
   "source": [
    "w_count_ch, tlh_count_ch, vlh_count_ch = SGD(X_vec_sen_train_ch,np_train_sen_label,X_vec_sen_dev_ch,np_dev_sen_label,lr=0.04,alpha=1e-5,epochs=10,tolerance=1e-12,print_progress=True)"
   ]
  },
  {
   "cell_type": "code",
   "execution_count": 137,
   "metadata": {
    "ExecuteTime": {
     "end_time": "2021-02-27T12:34:28.054262Z",
     "start_time": "2021-02-27T12:34:27.961266Z"
    }
   },
   "outputs": [
    {
     "data": {
      "image/png": "[encoded data removed]",
      "text/plain": [
       "<Figure size 432x288 with 1 Axes>"
      ]
     },
     "metadata": {
      "needs_background": "light"
     },
     "output_type": "display_data"
    }
   ],
   "source": [
    "plt.plot(np.arange(10),tlh_count_ch,label='Training Loss')\n",
    "plt.plot(np.arange(10),vlh_count_ch,label='Validation Loss')\n",
    "plt.title(\"BoCN count\")\n",
    "plt.legend()\n",
    "plt.show()"
   ]
  },
  {
   "cell_type": "markdown",
   "metadata": {},
   "source": [
    "The model which uses the best hyperparameter combination(Alpha = 1e-5, Learning Rate = 0.04) does not underfit or overfit. The reason is that the training loss is always on a decreasing trend and does not have generalisation error. The reason of choosing this combination of hyperparameter combination are given in 3.1.1."
   ]
  },
  {
   "cell_type": "code",
   "execution_count": 65,
   "metadata": {
    "ExecuteTime": {
     "end_time": "2021-02-26T18:05:05.308664Z",
     "start_time": "2021-02-26T18:05:05.285643Z"
    }
   },
   "outputs": [
    {
     "name": "stdout",
     "output_type": "stream",
     "text": [
      "Accuracy: 0.8375\n",
      "Precision: 0.8292682926829268\n",
      "Recall: 0.85\n",
      "F1-Score: 0.8395061728395061\n"
     ]
    },
    {
     "name": "stderr",
     "output_type": "stream",
     "text": [
      "<ipython-input-17-81448163ac20>:2: RuntimeWarning: overflow encountered in exp\n",
      "  sig = 1/(1+np.exp(-z))\n"
     ]
    }
   ],
   "source": [
    "preds_te_count_ch = predict_class(X_vec_sen_test_ch, w_count_ch)\n",
    "\n",
    "print('Accuracy:', accuracy_score(np_test_sen_label,preds_te_count_ch))\n",
    "print('Precision:', precision_score(np_test_sen_label,preds_te_count_ch))\n",
    "print('Recall:', recall_score(np_test_sen_label,preds_te_count_ch))\n",
    "print('F1-Score:', f1_score(np_test_sen_label,preds_te_count_ch))"
   ]
  },
  {
   "cell_type": "markdown",
   "metadata": {},
   "source": [
    "BOCN count model under different combination of hyperparameters.\n",
    "\n",
    "| Alpha | Learning Rate | Precision | Recall | F1-Score |\n",
    "|:-----:|:-------------:|:---------:|:------:|:--------:|\n",
    "|  1e-5 |      0.005     |   0.692   |  0.720 |  0.706  |\n",
    "|  1e-7 |      0.005     |   0.726   |  0.715 |  0.720  |\n",
    "|  1e-5 |      0.04     |   0.829   |  0.850 |   0.840  |\n",
    "|  1e-7 |      0.04     |   0.813   |  0.845 |   0.828  |"
   ]
  },
  {
   "cell_type": "code",
   "execution_count": 74,
   "metadata": {
    "ExecuteTime": {
     "end_time": "2021-02-26T18:08:26.306774Z",
     "start_time": "2021-02-26T18:08:26.299769Z"
    }
   },
   "outputs": [
    {
     "name": "stdout",
     "output_type": "stream",
     "text": [
      "('s', 'a')\n",
      "('b', 's', 'p')\n",
      "('t', 'e')\n",
      "('a', 'd')\n",
      "('h', 'e')\n",
      "('b', 'a', 'd')\n",
      "('u', 'p')\n",
      "('w', 'o', 'r', 's')\n",
      "('i', 'n')\n",
      "('w', 'h', 'y')\n"
     ]
    }
   ],
   "source": [
    "# Top 10 negative classes.\n",
    "w_count_ch = w_count_ch.T[0]\n",
    "top_neg = w_count_ch.argsort()[:10]\n",
    "for i in top_neg:\n",
    "    print(id2word_ch[i])"
   ]
  },
  {
   "cell_type": "code",
   "execution_count": 75,
   "metadata": {
    "ExecuteTime": {
     "end_time": "2021-02-26T18:08:40.141388Z",
     "start_time": "2021-02-26T18:08:40.134381Z"
    }
   },
   "outputs": [
    {
     "name": "stdout",
     "output_type": "stream",
     "text": [
      "('c', 'a')\n",
      "('t', 'r')\n",
      "('o', 'r', 'r', 'o')\n",
      "('a', 'r')\n",
      "('w', 'e', 'e', 't')\n",
      "('t', 'b', 'a', 'c')\n",
      "('r', 'f')\n",
      "('k', 'c', 'a', 'u')\n",
      "('e', 's', 'e')\n",
      "('l', 'y', 'n', 't')\n"
     ]
    }
   ],
   "source": [
    "# Top 10 positive classes.\n",
    "top_pos = w_count_ch.argsort()[::-1][:10]\n",
    "for i in top_pos:\n",
    "    print(id2word_ch[i])"
   ]
  },
  {
   "cell_type": "markdown",
   "metadata": {},
   "source": [
    "Some of the features would be generalised as well. For example, \"b,a,d\" and \"w,o,r,s\" in negative class and \"w,e,e,t\" in postive class. But some of the features do not make sense,such as \"c,a\",\"ese\" and so on."
   ]
  },
  {
   "cell_type": "markdown",
   "metadata": {},
   "source": [
    "#### BOCN-tfidf"
   ]
  },
  {
   "cell_type": "code",
   "execution_count": 79,
   "metadata": {
    "ExecuteTime": {
     "end_time": "2021-02-26T18:11:26.774408Z",
     "start_time": "2021-02-26T18:11:23.265213Z"
    }
   },
   "outputs": [
    {
     "name": "stderr",
     "output_type": "stream",
     "text": [
      "<ipython-input-21-8384edcceb44>:17: TqdmDeprecationWarning: This function will be removed in tqdm==5.0.0\n",
      "Please use `tqdm.notebook.tqdm` instead of `tqdm.tqdm_notebook`\n",
      "  for epoch in tqdm(range(epochs)):\n"
     ]
    },
    {
     "data": {
      "application/vnd.jupyter.widget-view+json": {
       "model_id": "d5366c507271443e9c91400cf01a955d",
       "version_major": 2,
       "version_minor": 0
      },
      "text/plain": [
       "HBox(children=(FloatProgress(value=0.0, max=10.0), HTML(value='')))"
      ]
     },
     "metadata": {},
     "output_type": "display_data"
    },
    {
     "name": "stderr",
     "output_type": "stream",
     "text": [
      "<ipython-input-17-81448163ac20>:2: RuntimeWarning: overflow encountered in exp\n",
      "  sig = 1/(1+np.exp(-z))\n"
     ]
    },
    {
     "name": "stdout",
     "output_type": "stream",
     "text": [
      "training loss: 6.806835516260364e-05\n",
      "dev loss: [8.98873954e-10]\n",
      "training loss: 4.78456120371282e-07\n",
      "dev loss: [6.83707419e-08]\n",
      "training loss: 8.231219981067533e-08\n",
      "dev loss: [1.83678122e-05]\n",
      "training loss: 2.854728236296518e-07\n",
      "dev loss: [9.42175467e-07]\n",
      "training loss: 2.2011630154790225e-07\n",
      "dev loss: [1.28695045e-05]\n",
      "training loss: 6.929543781964926e-08\n",
      "dev loss: [1.87981454e-06]\n",
      "training loss: 6.911828650070512e-08\n",
      "dev loss: [4.95536451e-06]\n",
      "training loss: 6.921371200730682e-08\n",
      "dev loss: [1.47003892e-06]\n",
      "training loss: 6.922256152244174e-08\n",
      "dev loss: [1.47005616e-06]\n",
      "training loss: 6.922256152323983e-08\n",
      "dev loss: [1.4700734e-06]\n",
      "\n"
     ]
    }
   ],
   "source": [
    "w_tfidf_ch, tlh_tfidf_ch, vlh_tfidf_ch = SGD(X_tfidf_vec_train_ch,np_train_sen_label,X_tfidf_vec_dev_ch,np_dev_sen_label,lr=0.04,alpha=1e-5,epochs=10,tolerance=1e-11,print_progress=True)"
   ]
  },
  {
   "cell_type": "code",
   "execution_count": 80,
   "metadata": {
    "ExecuteTime": {
     "end_time": "2021-02-26T18:11:40.743176Z",
     "start_time": "2021-02-26T18:11:40.651092Z"
    }
   },
   "outputs": [
    {
     "data": {
      "image/png": "[encoded data removed]",
      "text/plain": [
       "<Figure size 432x288 with 1 Axes>"
      ]
     },
     "metadata": {
      "needs_background": "light"
     },
     "output_type": "display_data"
    }
   ],
   "source": [
    "plt.plot(np.arange(10),tlh_tfidf_ch,label='Training Loss')\n",
    "plt.plot(np.arange(10),vlh_tfidf_ch,label='Validation Loss')\n",
    "plt.title(\"BoCN tfidf\")\n",
    "plt.legend()\n",
    "plt.show()"
   ]
  },
  {
   "cell_type": "markdown",
   "metadata": {},
   "source": [
    "The model which uses the best hyperparameter combination(Alpha = 1e-5, Learning Rate = 0.04) does not underfit or overfit. The reason is that the training loss is always on a decreasing trend and does not have generalisation error. The reason of choosing this combination of hyperparameter combination are given in 3.1.1."
   ]
  },
  {
   "cell_type": "code",
   "execution_count": 81,
   "metadata": {
    "ExecuteTime": {
     "end_time": "2021-02-26T18:11:54.737877Z",
     "start_time": "2021-02-26T18:11:54.722863Z"
    }
   },
   "outputs": [
    {
     "name": "stdout",
     "output_type": "stream",
     "text": [
      "Accuracy: 0.845\n",
      "Precision: 0.8382352941176471\n",
      "Recall: 0.855\n",
      "F1-Score: 0.8465346534653465\n"
     ]
    },
    {
     "name": "stderr",
     "output_type": "stream",
     "text": [
      "<ipython-input-17-81448163ac20>:2: RuntimeWarning: overflow encountered in exp\n",
      "  sig = 1/(1+np.exp(-z))\n"
     ]
    }
   ],
   "source": [
    "preds_te_tfidf_ch = predict_class(X_tfidf_vec_test_ch, w_tfidf_ch)\n",
    "\n",
    "print('Accuracy:', accuracy_score(np_test_sen_label,preds_te_tfidf_ch))\n",
    "print('Precision:', precision_score(np_test_sen_label,preds_te_tfidf_ch))\n",
    "print('Recall:', recall_score(np_test_sen_label,preds_te_tfidf_ch))\n",
    "print('F1-Score:', f1_score(np_test_sen_label,preds_te_tfidf_ch))"
   ]
  },
  {
   "cell_type": "markdown",
   "metadata": {},
   "source": [
    "BOCN tfidf model under different combination of hyperparameters.\n",
    "\n",
    "| Alpha | Learning Rate | Precision | Recall | F1-Score |\n",
    "|:-----:|:-------------:|:---------:|:------:|:--------:|\n",
    "|  1e-5 |      0.005     |   0.731   |  0.735 |  0.733  |\n",
    "|  1e-7 |      0.005     |   0.726   |  0.755 |  0.740  |\n",
    "|  1e-5 |      0.04     |   0.838   |  0.855 |   0.847  |\n",
    "|  1e-7 |      0.04     |   0.809   |  0.785 |   0.797  |"
   ]
  },
  {
   "cell_type": "code",
   "execution_count": 82,
   "metadata": {
    "ExecuteTime": {
     "end_time": "2021-02-26T18:12:21.265580Z",
     "start_time": "2021-02-26T18:12:21.258574Z"
    }
   },
   "outputs": [
    {
     "name": "stdout",
     "output_type": "stream",
     "text": [
      "('b', 'a', 'd')\n",
      "('w', 'o', 'r', 's')\n",
      "('s', 'a')\n",
      "('b', 's', 'p')\n",
      "('b', 'a')\n",
      "('w', 'a', 's', 't')\n",
      "('a', 'd')\n",
      "('t', 'e')\n",
      "('l', 'a', 'm', 'e')\n",
      "('h', 'e')\n"
     ]
    }
   ],
   "source": [
    "# Top 10 negative classes.\n",
    "w_tfidf_ch = w_tfidf_ch.T[0]\n",
    "top_neg = w_tfidf_ch.argsort()[:10]\n",
    "for i in top_neg:\n",
    "    print(id2word_ch[i])"
   ]
  },
  {
   "cell_type": "code",
   "execution_count": 83,
   "metadata": {
    "ExecuteTime": {
     "end_time": "2021-02-26T18:12:35.177259Z",
     "start_time": "2021-02-26T18:12:35.170252Z"
    }
   },
   "outputs": [
    {
     "name": "stdout",
     "output_type": "stream",
     "text": [
      "('r', 'u', 'm', 'a')\n",
      "('k', 'c', 'a', 'u')\n",
      "('r', 'f')\n",
      "('e', 'l')\n",
      "('a', 'r')\n",
      "('r', 'l', 'd')\n",
      "('a', 'm', 'e', 'r')\n",
      "('w', 'e')\n",
      "('r', 'e', 'a', 't')\n",
      "('g', 'r', 'e', 'a')\n"
     ]
    }
   ],
   "source": [
    "# Top 10 positive classes.\n",
    "top_pos = w_tfidf_ch.argsort()[::-1][:10]\n",
    "for i in top_pos:\n",
    "    print(id2word_ch[i])"
   ]
  },
  {
   "cell_type": "markdown",
   "metadata": {},
   "source": [
    "Some of the features would be generalised as well. For example, \"b,a,d\",\"w,a,s,t\" and \"w,o,r,s\" in negative class and \"g,r,e,a\" in postive class. But some of the features do not make sense,such as \"r,f\",\"e,l\" and so on."
   ]
  },
  {
   "cell_type": "markdown",
   "metadata": {},
   "source": [
    "#### BOW+BOCN"
   ]
  },
  {
   "cell_type": "code",
   "execution_count": 84,
   "metadata": {
    "ExecuteTime": {
     "end_time": "2021-02-26T18:14:05.950007Z",
     "start_time": "2021-02-26T18:14:05.342455Z"
    }
   },
   "outputs": [],
   "source": [
    "# Merge tfidf vectors.\n",
    "X_vec_sen_train_com = np.hstack((X_tfidf_vec_train_13,X_tfidf_vec_train_ch))\n",
    "X_vec_sen_dev_com = np.hstack((X_tfidf_vec_dev_13,X_tfidf_vec_dev_ch))\n",
    "X_vec_sen_test_com = np.hstack((X_tfidf_vec_test_13,X_tfidf_vec_test_ch))"
   ]
  },
  {
   "cell_type": "code",
   "execution_count": 225,
   "metadata": {
    "ExecuteTime": {
     "end_time": "2021-02-26T21:25:58.028775Z",
     "start_time": "2021-02-26T21:25:58.007756Z"
    }
   },
   "outputs": [],
   "source": [
    "# Merge tfidf word2id dictionaries.\n",
    "id2word_com = id2word.copy()\n",
    "index = len(id2word)\n",
    "for k,v in id2word_ch.items():\n",
    "    id2word_com[k+index] = v"
   ]
  },
  {
   "cell_type": "code",
   "execution_count": 192,
   "metadata": {
    "ExecuteTime": {
     "end_time": "2021-02-26T19:29:11.861000Z",
     "start_time": "2021-02-26T19:29:07.385421Z"
    }
   },
   "outputs": [
    {
     "name": "stderr",
     "output_type": "stream",
     "text": [
      "<ipython-input-21-8384edcceb44>:17: TqdmDeprecationWarning: This function will be removed in tqdm==5.0.0\n",
      "Please use `tqdm.notebook.tqdm` instead of `tqdm.tqdm_notebook`\n",
      "  for epoch in tqdm(range(epochs)):\n"
     ]
    },
    {
     "data": {
      "application/vnd.jupyter.widget-view+json": {
       "model_id": "0be0d555023547fcb53ce1c9c13bfa35",
       "version_major": 2,
       "version_minor": 0
      },
      "text/plain": [
       "HBox(children=(FloatProgress(value=0.0, max=10.0), HTML(value='')))"
      ]
     },
     "metadata": {},
     "output_type": "display_data"
    },
    {
     "name": "stderr",
     "output_type": "stream",
     "text": [
      "<ipython-input-17-81448163ac20>:2: RuntimeWarning: overflow encountered in exp\n",
      "  sig = 1/(1+np.exp(-z))\n"
     ]
    },
    {
     "name": "stdout",
     "output_type": "stream",
     "text": [
      "training loss: 0.00034054844516582367\n",
      "dev loss: [3.25976862e-05]\n",
      "training loss: 3.0969361542223174e-07\n",
      "dev loss: [3.8798646e-06]\n",
      "training loss: 2.404751036454533e-06\n",
      "dev loss: [3.2074105e-07]\n",
      "training loss: 8.058641860115973e-08\n",
      "dev loss: [1.02047614e-06]\n",
      "training loss: 3.372320034059569e-07\n",
      "dev loss: [4.48592757e-09]\n",
      "training loss: 5.6790027960962604e-08\n",
      "dev loss: [1.3513419e-06]\n",
      "training loss: 5.721537837646736e-08\n",
      "dev loss: [1.22569626e-06]\n",
      "training loss: 8.1999466445976e-08\n",
      "dev loss: [7.65346188e-06]\n",
      "training loss: 8.120060093976485e-08\n",
      "dev loss: [7.72175831e-06]\n",
      "training loss: 8.045153979123647e-08\n",
      "dev loss: [7.7884356e-06]\n",
      "\n"
     ]
    }
   ],
   "source": [
    "w_com_ch, tlh_com_ch, vlh_com_ch = SGD(X_vec_sen_train_com,np_train_sen_label,X_vec_sen_dev_com,np_dev_sen_label,lr=0.04,alpha=1e-5,epochs=10,tolerance=1e-11,print_progress=True)"
   ]
  },
  {
   "cell_type": "code",
   "execution_count": 193,
   "metadata": {
    "ExecuteTime": {
     "end_time": "2021-02-26T19:29:25.841103Z",
     "start_time": "2021-02-26T19:29:25.748019Z"
    }
   },
   "outputs": [
    {
     "data": {
      "image/png": "[encoded data removed]",
      "text/plain": [
       "<Figure size 432x288 with 1 Axes>"
      ]
     },
     "metadata": {
      "needs_background": "light"
     },
     "output_type": "display_data"
    }
   ],
   "source": [
    "plt.plot(np.arange(10),tlh_com_ch,label='Training Loss')\n",
    "plt.plot(np.arange(10),vlh_com_ch,label='Validation Loss')\n",
    "plt.title(\"BoW + BoCN tfidf\")\n",
    "plt.legend()\n",
    "plt.show()"
   ]
  },
  {
   "cell_type": "markdown",
   "metadata": {},
   "source": [
    "The model which uses the best hyperparameter combination(Alpha = 1e-5, Learning Rate = 0.04) does not underfit or overfit. The reason is that the training loss is always on a decreasing trend and does not have generalisation error. The reason of choosing this combination of hyperparameter combination are given in 3.1.1."
   ]
  },
  {
   "cell_type": "code",
   "execution_count": 160,
   "metadata": {
    "ExecuteTime": {
     "end_time": "2021-02-26T18:37:12.343819Z",
     "start_time": "2021-02-26T18:37:12.326804Z"
    }
   },
   "outputs": [
    {
     "name": "stdout",
     "output_type": "stream",
     "text": [
      "Accuracy: 0.85\n",
      "Precision: 0.8723404255319149\n",
      "Recall: 0.82\n",
      "F1-Score: 0.8453608247422681\n"
     ]
    },
    {
     "name": "stderr",
     "output_type": "stream",
     "text": [
      "<ipython-input-17-81448163ac20>:2: RuntimeWarning: overflow encountered in exp\n",
      "  sig = 1/(1+np.exp(-z))\n"
     ]
    }
   ],
   "source": [
    "preds_te_com = predict_class(X_vec_sen_test_com, w_com_ch)\n",
    "\n",
    "print('Accuracy:', accuracy_score(np_test_sen_label,preds_te_com))\n",
    "print('Precision:', precision_score(np_test_sen_label,preds_te_com))\n",
    "print('Recall:', recall_score(np_test_sen_label,preds_te_com))\n",
    "print('F1-Score:', f1_score(np_test_sen_label,preds_te_com))"
   ]
  },
  {
   "cell_type": "markdown",
   "metadata": {},
   "source": [
    "BOW + BOCN tfidf model under different combination of hyperparameters.\n",
    "\n",
    "| Alpha | Learning Rate | Precision | Recall | F1-Score |\n",
    "|:-----:|:-------------:|:---------:|:------:|:--------:|\n",
    "|  1e-5 |      0.01     |   0.762   |  0.815 |  0.787  |\n",
    "|  1e-7 |      0.01     |   0.758   |  0.800 |  0.779  |\n",
    "|  1e-5 |      0.04     |   0.872   |  0.820 |   0.845  |\n",
    "|  1e-7 |      0.04     |   0.841   |  0.825 |   0.833  |"
   ]
  },
  {
   "cell_type": "code",
   "execution_count": 227,
   "metadata": {
    "ExecuteTime": {
     "end_time": "2021-02-26T21:26:25.856256Z",
     "start_time": "2021-02-26T21:26:25.847248Z"
    }
   },
   "outputs": [
    {
     "name": "stdout",
     "output_type": "stream",
     "text": [
      "('s', 'a')\n",
      "('b', 's', 'p')\n",
      "('b', 'a', 'd')\n",
      "('bad',)\n",
      "('b', 'a')\n",
      "('harry',)\n",
      "('a', 'd')\n",
      "('u', 'n')\n",
      "('r', 'p', 'e', 'n')\n",
      "('p', 'o')\n"
     ]
    }
   ],
   "source": [
    "# Top 10 negative classes.\n",
    "w_com_ch = w_com_ch.T[0]\n",
    "top_neg = w_com_ch.argsort()[:10]\n",
    "for i in top_neg:\n",
    "    print(id2word_com[i])"
   ]
  },
  {
   "cell_type": "code",
   "execution_count": 228,
   "metadata": {
    "ExecuteTime": {
     "end_time": "2021-02-26T21:26:39.516236Z",
     "start_time": "2021-02-26T21:26:39.508229Z"
    }
   },
   "outputs": [
    {
     "name": "stdout",
     "output_type": "stream",
     "text": [
      "('s', 'e')\n",
      "('a', 'r')\n",
      "('l', 'y', 'n', 't')\n",
      "('flynt',)\n",
      "('cauldron',)\n",
      "('d', 'r', 'o', 'n')\n",
      "('a', 'l')\n",
      "('k', 'c', 'a', 'u')\n",
      "('e', 's', 'e')\n",
      "('e', 'l')\n"
     ]
    }
   ],
   "source": [
    "# Top 10 positive classes.\n",
    "top_pos = w_com_ch.argsort()[::-1][:10]\n",
    "for i in top_pos:\n",
    "    print(id2word_com[i])"
   ]
  },
  {
   "cell_type": "markdown",
   "metadata": {},
   "source": [
    "Some of the features would be generalised as well. For example, \"b,a,d\" and \"bad\" in negative class. But some of the features do not make sense,such as \"harry\",\"e,l\" and so on."
   ]
  },
  {
   "cell_type": "markdown",
   "metadata": {},
   "source": [
    "\n",
    "\n",
    "## Full Results\n",
    "\n",
    "Add here your results:\n",
    "\n",
    "| LR | Precision  | Recall  | F1-Score  |\n",
    "|:-:|:-:|:-:|:-:|\n",
    "| BOW-count  | 0.793  |  0.825 |   0.809  |\n",
    "| BOW-tfidf  | 0.813   |  0.825 |   0.818  |\n",
    "| BOCN-count  | 0.829   |  0.850 |   0.840  |\n",
    "| BOCN-tfidf  | 0.838   |  0.855 |   0.847  |\n",
    "| BOW+BOCN  | 0.872   |  0.820 |   0.845  |\n",
    "\n",
    "Please discuss why your best performing model is better than the rest.\n",
    "\n",
    "In my best performing model which is BOW+BOCN, it has largest number of features because it is combined by the features of BOW and BOCN. Also, TFIDF input matrix has better performance than count input matrix,and the two TFIDF input matrix are used to combine the final input matrix. \n"
   ]
  },
  {
   "cell_type": "markdown",
   "metadata": {},
   "source": [
    "# Task 2: Multi-class Logistic Regression \n",
    "\n",
    "Now you need to train a Multiclass Logistic Regression (MLR) Classifier by extending the Binary model you developed above. You will use the MLR model to perform topic classification on the AG news dataset consisting of three classes:"
   ]
  },
  {
   "cell_type": "markdown",
   "metadata": {},
   "source": [
    "- Class 1: World\n",
    "- Class 2: Sports\n",
    "- Class 3: Business"
   ]
  },
  {
   "cell_type": "markdown",
   "metadata": {},
   "source": [
    "You need to follow the same process as in Task 1 for data processing and feature extraction by reusing the functions you wrote."
   ]
  },
  {
   "cell_type": "code",
   "execution_count": 6,
   "metadata": {
    "ExecuteTime": {
     "end_time": "2021-02-28T11:08:37.560968Z",
     "start_time": "2021-02-28T11:08:37.527433Z"
    }
   },
   "outputs": [],
   "source": [
    "# Read data.\n",
    "train_mc = pd.read_csv('data_topic/train.csv',header=None)\n",
    "dev_mc = pd.read_csv('data_topic/dev.csv',header=None)\n",
    "test_mc = pd.read_csv('data_topic/test.csv',header=None)"
   ]
  },
  {
   "cell_type": "code",
   "execution_count": 7,
   "metadata": {
    "ExecuteTime": {
     "end_time": "2021-02-28T11:08:39.913817Z",
     "start_time": "2021-02-28T11:08:39.909814Z"
    }
   },
   "outputs": [],
   "source": [
    "# Data to numpy array.\n",
    "np_train_mc = train_mc.to_numpy()\n",
    "np_dev_mc = dev_mc.to_numpy()\n",
    "np_test_mc = test_mc.to_numpy()"
   ]
  },
  {
   "cell_type": "code",
   "execution_count": 8,
   "metadata": {
    "ExecuteTime": {
     "end_time": "2021-02-28T11:08:46.395371Z",
     "start_time": "2021-02-28T11:08:46.393369Z"
    }
   },
   "outputs": [],
   "source": [
    "# Read label.\n",
    "np_train_mc_label = np_train_mc[:,0].astype(np.int)\n",
    "np_dev_mc_label = np_dev_mc[:,0].astype(np.int)\n",
    "np_test_mc_label = np_test_mc[:,0].astype(np.int)"
   ]
  },
  {
   "cell_type": "code",
   "execution_count": 9,
   "metadata": {
    "ExecuteTime": {
     "end_time": "2021-02-28T11:08:50.880304Z",
     "start_time": "2021-02-28T11:08:50.873297Z"
    }
   },
   "outputs": [],
   "source": [
    "# New get_vocab function due to the different columns of data and labels.\n",
    "def get_vocab_mc(X_raw, ngram_range=(1,3), token_pattern=r'', \n",
    "              min_df=0, keep_topN=0, \n",
    "              stop_words=[],char_ngrams=False):\n",
    "    vocab = set()\n",
    "    df = {} \n",
    "    ngram_count_list = []\n",
    "    for i in range(len(X_raw)):\n",
    "        ngram = extract_ngrams(X_raw[i][1],\n",
    "                               ngram_range=ngram_range,\n",
    "                               token_pattern=token_pattern,\n",
    "                               stop_words=stop_words,\n",
    "                               char_ngrams=char_ngrams)\n",
    "        for gram in ngram:\n",
    "            df.setdefault(gram,1)\n",
    "            ngram_count_list.append(gram)\n",
    "        fre = vocab.intersection(set(ngram))\n",
    "        for word in fre:\n",
    "            df[word]+=1\n",
    "        vocab = vocab.union(set(ngram))\n",
    "        \n",
    "    ngram_counts = Counter(ngram_count_list)\n",
    "    if min_df:\n",
    "        df_copy = df.copy()\n",
    "        for k,v in df_copy.items():\n",
    "            if v<min_df:\n",
    "                del df[k] \n",
    "                \n",
    "    if keep_topN:\n",
    "        if keep_topN>len(df):\n",
    "            ngram_counts = sorted(ngram_counts.items(), key=lambda e:e[1], reverse=True)[:keep_topN]\n",
    "        else:\n",
    "            ngram_counts = sorted(ngram_counts.items(), key=lambda e:e[1], reverse=True)[:len(df)]\n",
    "    vocab = set(df.keys())\n",
    "    return vocab, df, ngram_counts"
   ]
  },
  {
   "cell_type": "code",
   "execution_count": 10,
   "metadata": {
    "ExecuteTime": {
     "end_time": "2021-02-28T11:08:57.895220Z",
     "start_time": "2021-02-28T11:08:52.297928Z"
    }
   },
   "outputs": [],
   "source": [
    "# The min_df is 5, Top_words is 300.\n",
    "vocab_mc_train_13, df_mc_train_13, ngram_counts_mc_trian_13 = get_vocab_mc(np_train_mc,token_pattern=r'[^a-zA-Z0-9\\s]',stop_words=stop_words,min_df=5,keep_topN=300)"
   ]
  },
  {
   "cell_type": "code",
   "execution_count": 11,
   "metadata": {
    "ExecuteTime": {
     "end_time": "2021-02-28T11:08:57.937259Z",
     "start_time": "2021-02-28T11:08:57.934255Z"
    }
   },
   "outputs": [],
   "source": [
    "# Word and id dictionaries.\n",
    "id2word_mc_13 = dict(enumerate(vocab_mc_train_13))\n",
    "word2id_mc_13 = dict(zip(id2word_mc_13.values(),id2word_mc_13))"
   ]
  },
  {
   "cell_type": "code",
   "execution_count": 12,
   "metadata": {
    "ExecuteTime": {
     "end_time": "2021-02-28T11:08:57.984301Z",
     "start_time": "2021-02-28T11:08:57.981299Z"
    }
   },
   "outputs": [],
   "source": [
    "# New ngram_list function due to the different columns of data and labels.\n",
    "def ngram_list_mc(X_raw, ngram_range=(1,3), token_pattern=r'',\n",
    "               stop_words=[],char_ngrams=False):\n",
    "    X_ngram = []\n",
    "    for i in range(len(X_raw)):\n",
    "        X_ngram.append(extract_ngrams(X_raw[i][1],\n",
    "                                    ngram_range=ngram_range,\n",
    "                                    token_pattern=token_pattern,\n",
    "                                    stop_words=stop_words,\n",
    "                                    char_ngrams=char_ngrams))\n",
    "    return X_ngram"
   ]
  },
  {
   "cell_type": "code",
   "execution_count": 13,
   "metadata": {
    "ExecuteTime": {
     "end_time": "2021-02-28T11:08:58.241536Z",
     "start_time": "2021-02-28T11:08:58.032345Z"
    }
   },
   "outputs": [],
   "source": [
    "# Extract ngrams from data.\n",
    "X_ngram_mc_train_13 = ngram_list_mc(np_train_mc,token_pattern=r'[^a-zA-Z0-9\\s]',stop_words=stop_words)\n",
    "X_ngram_mc_dev_13 = ngram_list_mc(np_dev_mc,token_pattern=r'[^a-zA-Z0-9\\s]',stop_words=stop_words)\n",
    "X_ngram_mc_test_13 = ngram_list_mc(np_test_mc,token_pattern=r'[^a-zA-Z0-9\\s]',stop_words=stop_words)"
   ]
  },
  {
   "cell_type": "code",
   "execution_count": 14,
   "metadata": {
    "ExecuteTime": {
     "end_time": "2021-02-28T11:08:58.579843Z",
     "start_time": "2021-02-28T11:08:58.477751Z"
    }
   },
   "outputs": [],
   "source": [
    "# Vectorise count vectors.\n",
    "X_vec_mc_train_13 = vectorise(X_ngram_mc_train_13,word2id_mc_13)\n",
    "X_vec_mc_dev_13 = vectorise(X_ngram_mc_dev_13,word2id_mc_13)\n",
    "X_vec_mc_test_13 = vectorise(X_ngram_mc_test_13,word2id_mc_13)"
   ]
  },
  {
   "cell_type": "code",
   "execution_count": 15,
   "metadata": {
    "ExecuteTime": {
     "end_time": "2021-02-28T11:09:09.111696Z",
     "start_time": "2021-02-28T11:08:58.822064Z"
    }
   },
   "outputs": [],
   "source": [
    "# Vectorise tfidf vectors.\n",
    "X_tfidf_vec_train_mc_13 = computeTFIDF(X_vec_mc_train_13,word2id_mc_13,df_mc_train_13)\n",
    "X_tfidf_vec_dev_mc_13 = computeTFIDF(X_vec_mc_dev_13,word2id_mc_13,df_mc_train_13)\n",
    "X_tfidf_vec_test_mc_13 = computeTFIDF(X_vec_mc_test_13,word2id_mc_13,df_mc_train_13)"
   ]
  },
  {
   "cell_type": "code",
   "execution_count": 16,
   "metadata": {
    "ExecuteTime": {
     "end_time": "2021-02-28T11:09:09.359922Z",
     "start_time": "2021-02-28T11:09:09.357921Z"
    }
   },
   "outputs": [],
   "source": [
    "def softmax(z):\n",
    "    e_z = np.exp(z - np.max(z))\n",
    "    smax =  e_z / np.sum(e_z)\n",
    "    return smax"
   ]
  },
  {
   "cell_type": "markdown",
   "metadata": {},
   "source": [
    "Then modify `predict_proba` and `predict_class` functions for the multiclass case:"
   ]
  },
  {
   "cell_type": "code",
   "execution_count": 17,
   "metadata": {
    "ExecuteTime": {
     "end_time": "2021-02-28T11:09:09.602143Z",
     "start_time": "2021-02-28T11:09:09.600141Z"
    }
   },
   "outputs": [],
   "source": [
    "def predict_proba_mc(X, weights):\n",
    "    preds_proba = softmax(X@weights)\n",
    "    return preds_proba"
   ]
  },
  {
   "cell_type": "code",
   "execution_count": 18,
   "metadata": {
    "ExecuteTime": {
     "end_time": "2021-02-28T11:09:09.845365Z",
     "start_time": "2021-02-28T11:09:09.842362Z"
    }
   },
   "outputs": [],
   "source": [
    "def predict_class_mc(X, weights):\n",
    "    prediction = predict_proba_mc(X,weights)\n",
    "    preds_class = np.zeros(len(prediction))\n",
    "    for i in range(len(prediction)):\n",
    "        preds_class[i] = np.argmax(prediction[i])+1\n",
    "    return preds_class"
   ]
  },
  {
   "cell_type": "markdown",
   "metadata": {},
   "source": [
    "Now you need to compute the categorical cross entropy loss (extending the binary loss to support multiple classes)."
   ]
  },
  {
   "cell_type": "code",
   "execution_count": 19,
   "metadata": {
    "ExecuteTime": {
     "end_time": "2021-02-28T11:09:10.088585Z",
     "start_time": "2021-02-28T11:09:10.084582Z"
    }
   },
   "outputs": [],
   "source": [
    "def categorical_loss(X, Y, weights, num_classes=5, alpha=0.00001):\n",
    "    '''\n",
    "    X:(len(X),len(vocab))\n",
    "    Y: array len(Y)\n",
    "    weights: array len(X)\n",
    "    '''\n",
    "    l = 0\n",
    "    \n",
    "    pre = predict_proba_mc(X,weights)\n",
    "    pre_label = predict_class_mc(X,weights).astype(int)\n",
    "    \n",
    "    pre = np.clip(pre,1e-6,1-1e-6)\n",
    "    \n",
    "    num_features = len(weights)\n",
    "    num_docs = len(pre)\n",
    "    \n",
    "    for i in range(num_docs):\n",
    "        index = pre_label[i] - 1\n",
    "        l += -np.log(pre[i][index]) + alpha*np.linalg.norm(weights[:,index])/(num_features*2)\n",
    "    return l"
   ]
  },
  {
   "cell_type": "markdown",
   "metadata": {
    "ExecuteTime": {
     "end_time": "2020-02-15T14:08:59.937442Z",
     "start_time": "2020-02-15T14:08:59.932221Z"
    }
   },
   "source": [
    "Finally you need to modify SGD to support the categorical cross entropy loss:"
   ]
  },
  {
   "cell_type": "code",
   "execution_count": 26,
   "metadata": {
    "ExecuteTime": {
     "end_time": "2021-02-28T11:10:47.697970Z",
     "start_time": "2021-02-28T11:10:47.688962Z"
    }
   },
   "outputs": [],
   "source": [
    "def SGD_mc(X_tr, Y_tr, X_dev=[], Y_dev=[], num_classes=5, lr=0.01, alpha=0.00001,\n",
    "         epochs=5, tolerance=0.001, print_progress=True):\n",
    "        num_feature = X_tr.shape[1]\n",
    "        train_num_docs = len(Y_tr)\n",
    "        dev_num_docs = len(Y_dev)\n",
    "\n",
    "        Y_tr = Y_tr.astype(int)\n",
    "        weights = np.random.randn(num_feature,num_classes)\n",
    "\n",
    "        training_loss_history = np.zeros(epochs)\n",
    "        validation_loss_history = np.zeros(epochs)\n",
    "\n",
    "        for epoch in tqdm(range(epochs)):\n",
    "            dev_loss = 0\n",
    "            train_loss = 0\n",
    "            train_rand_ind = np.random.permutation(train_num_docs)\n",
    "            dev_rand_ind = np.random.permutation(dev_num_docs)\n",
    "\n",
    "            for index in train_rand_ind:\n",
    "                data = X_tr[index]\n",
    "                prediction = predict_proba_mc(data,weights)\n",
    "\n",
    "                label = np.zeros(num_classes)\n",
    "                label[Y_tr[index]-1] = 1\n",
    "\n",
    "                weights = weights -  lr * (data.reshape(-1,1)*(prediction-label) + alpha*weights/(train_num_docs*num_feature))\n",
    "                \n",
    "                train_loss += categorical_loss(data.reshape(1,num_feature),label,weights,alpha=alpha)/train_num_docs\n",
    "                \n",
    "            temp = categorical_loss(X_dev,Y_dev,weights,alpha=alpha)/dev_num_docs\n",
    "\n",
    "            if abs(temp-dev_loss)<tolerance:\n",
    "                break\n",
    "\n",
    "            dev_loss = temp\n",
    "\n",
    "            if print_progress:\n",
    "                print('training loss:', train_loss)\n",
    "                print('validation loss:', dev_loss)\n",
    "\n",
    "            training_loss_history[epoch] = train_loss\n",
    "            validation_loss_history[epoch] = dev_loss\n",
    "        return weights,training_loss_history,validation_loss_history"
   ]
  },
  {
   "cell_type": "markdown",
   "metadata": {
    "ExecuteTime": {
     "end_time": "2020-02-15T14:10:15.772383Z",
     "start_time": "2020-02-15T14:10:15.767855Z"
    }
   },
   "source": [
    "Now you are ready to train and evaluate you MLR following the same steps as in Task 1 for the different vector representations"
   ]
  },
  {
   "cell_type": "code",
   "execution_count": 39,
   "metadata": {
    "ExecuteTime": {
     "end_time": "2021-02-28T11:17:29.785683Z",
     "start_time": "2021-02-28T11:17:25.352683Z"
    }
   },
   "outputs": [
    {
     "name": "stderr",
     "output_type": "stream",
     "text": [
      "<ipython-input-26-bbcebb5a7fc2>:13: TqdmDeprecationWarning: This function will be removed in tqdm==5.0.0\n",
      "Please use `tqdm.notebook.tqdm` instead of `tqdm.tqdm_notebook`\n",
      "  for epoch in tqdm(range(epochs)):\n"
     ]
    },
    {
     "data": {
      "application/vnd.jupyter.widget-view+json": {
       "model_id": "fbe45bb50daa40e08f94b6683e2dc6d7",
       "version_major": 2,
       "version_minor": 0
      },
      "text/plain": [
       "HBox(children=(FloatProgress(value=0.0, max=10.0), HTML(value='')))"
      ]
     },
     "metadata": {},
     "output_type": "display_data"
    },
    {
     "name": "stdout",
     "output_type": "stream",
     "text": [
      "training loss: 0.012306625559702154\n",
      "validation loss: 0.09104568570451692\n",
      "training loss: 0.004192246104769386\n",
      "validation loss: 0.09139631631848934\n",
      "training loss: 0.0021869733520473674\n",
      "validation loss: 0.09127150057288166\n",
      "training loss: 0.0012886925864997725\n",
      "validation loss: 0.09120305793896914\n",
      "training loss: 0.000952116364306099\n",
      "validation loss: 0.09130107119535466\n",
      "training loss: 0.0006007449131335588\n",
      "validation loss: 0.09131033668997833\n",
      "training loss: 0.0005428972069069717\n",
      "validation loss: 0.09127238819982\n",
      "training loss: 0.0005259245588449431\n",
      "validation loss: 0.09131140336608139\n",
      "training loss: 0.0005139794639028814\n",
      "validation loss: 0.09128638410024903\n",
      "training loss: 0.0004362841290017651\n",
      "validation loss: 0.09132544721535688\n",
      "\n"
     ]
    }
   ],
   "source": [
    "w_count_mc, tlh_count_mc, vlh_count_mc = SGD_mc(X_vec_mc_train_13,np_train_mc_label,X_vec_mc_dev_13,np_dev_mc_label,lr=0.04,alpha=1e-5,num_classes = 3,epochs=10,tolerance=1e-7,print_progress=True)"
   ]
  },
  {
   "cell_type": "code",
   "execution_count": 40,
   "metadata": {
    "ExecuteTime": {
     "end_time": "2021-02-28T11:17:31.331217Z",
     "start_time": "2021-02-28T11:17:31.193091Z"
    }
   },
   "outputs": [
    {
     "data": {
      "text/plain": [
       "Text(0.5, 1.0, 'MLR BoW Count Validation Loss')"
      ]
     },
     "execution_count": 40,
     "metadata": {},
     "output_type": "execute_result"
    },
    {
     "data": {
      "image/png": "[encoded data removed]",
      "text/plain": [
       "<Figure size 720x432 with 2 Axes>"
      ]
     },
     "metadata": {
      "needs_background": "light"
     },
     "output_type": "display_data"
    }
   ],
   "source": [
    "plt.figure(figsize=(10,6))\n",
    "plt.subplot(2, 2, 1)\n",
    "plt.plot(np.arange(10), tlh_count_mc)\n",
    "plt.title(\"MLR BoW Count Training Loss\")\n",
    "plt.subplot(2, 2, 2)\n",
    "plt.plot(np.arange(10),vlh_count_mc)\n",
    "plt.title(\"MLR BoW Count Validation Loss\")"
   ]
  },
  {
   "cell_type": "markdown",
   "metadata": {},
   "source": [
    "The model which uses the best hyperparameter combination(Alpha = 1e-5, Learning Rate = 0.04) does not underfit or overfit. The reason is that the training loss is always on a decreasing trend and does not have generalisation error. The reason of choosing this combination of hyperparameter combination are given in 3.1.1. "
   ]
  },
  {
   "cell_type": "markdown",
   "metadata": {},
   "source": [
    "Compute accuracy, precision, recall and F1-scores:"
   ]
  },
  {
   "cell_type": "code",
   "execution_count": 119,
   "metadata": {
    "ExecuteTime": {
     "end_time": "2021-02-26T21:59:35.900698Z",
     "start_time": "2021-02-26T21:59:35.888688Z"
    }
   },
   "outputs": [
    {
     "name": "stdout",
     "output_type": "stream",
     "text": [
      "Accuracy: 0.7955555555555556\n",
      "Precision: 0.7966625966625966\n",
      "Recall: 0.7955555555555556\n",
      "F1-Score: 0.7952622238469588\n"
     ]
    }
   ],
   "source": [
    "preds_te_count_mc = predict_class_mc(X_vec_mc_test_13, w_count_mc)\n",
    "\n",
    "print('Accuracy:', accuracy_score(np_test_mc_label,preds_te_count_mc))\n",
    "print('Precision:', precision_score(np_test_mc_label,preds_te_count_mc,average='macro'))\n",
    "print('Recall:', recall_score(np_test_mc_label,preds_te_count_mc,average='macro'))\n",
    "print('F1-Score:', f1_score(np_test_mc_label,preds_te_count_mc,average='macro'))"
   ]
  },
  {
   "cell_type": "markdown",
   "metadata": {},
   "source": [
    "MLR BOW count model under different combination of hyperparameters.\n",
    "\n",
    "| Alpha | Learning Rate | Precision | Recall | F1-Score |\n",
    "|:-----:|:-------------:|:---------:|:------:|:--------:|\n",
    "|  1e-5 |      0.01     |   0.736   |  0.736 |  0.735  |\n",
    "|  1e-7 |      0.01     |   0.709   |  0.709 |  0.709  |\n",
    "|  1e-5 |      0.04     |   0.797   |  0.796 |   0.795  |\n",
    "|  1e-7 |      0.04     |   0.788   |  0.787 |   0.786  |"
   ]
  },
  {
   "cell_type": "code",
   "execution_count": 304,
   "metadata": {
    "ExecuteTime": {
     "end_time": "2021-02-26T22:54:07.664485Z",
     "start_time": "2021-02-26T22:54:07.660481Z"
    }
   },
   "outputs": [
    {
     "name": "stdout",
     "output_type": "stream",
     "text": [
      "('TOKYO',)\n",
      "('SAN', 'FRANCISCO', 'Reuters')\n",
      "('economic', 'reports')\n",
      "('TOKYO', 'Reuters')\n",
      "('It',)\n",
      "('Tim',)\n",
      "('van', 'den')\n",
      "('Minister', 'John', 'Howard')\n",
      "('when',)\n",
      "('Networks',)\n"
     ]
    }
   ],
   "source": [
    "# Top 10 international issue features.\n",
    "w_count_mc_T = w_count_mc.T\n",
    "w_count_mc_T_1 = w_count_mc_T[0]\n",
    "w_count_mc_T_2 = w_count_mc_T[1]\n",
    "w_count_mc_T_3 = w_count_mc_T[2]\n",
    "top_inter = w_count_mc_T_1.argsort()[:10]\n",
    "for i in top_inter:\n",
    "    print(id2word_mc_13[i])"
   ]
  },
  {
   "cell_type": "code",
   "execution_count": 305,
   "metadata": {
    "ExecuteTime": {
     "end_time": "2021-02-26T22:54:09.199699Z",
     "start_time": "2021-02-26T22:54:09.195696Z"
    }
   },
   "outputs": [
    {
     "name": "stdout",
     "output_type": "stream",
     "text": [
      "('check',)\n",
      "('Inc', '39', 's')\n",
      "('6', 'billion')\n",
      "('Reuters', 'Iraqi')\n",
      "('capital',)\n",
      "('company',)\n",
      "('market',)\n",
      "('vote',)\n",
      "('Blair',)\n",
      "('upbeat', 'outlooks', 'Wal')\n"
     ]
    }
   ],
   "source": [
    "# Top 10 sport features.\n",
    "top_sport = w_count_mc_T_2.argsort()[:10]\n",
    "for i in top_sport:\n",
    "    print(id2word_mc_13[i])"
   ]
  },
  {
   "cell_type": "code",
   "execution_count": 306,
   "metadata": {
    "ExecuteTime": {
     "end_time": "2021-02-26T22:54:11.348898Z",
     "start_time": "2021-02-26T22:54:11.345896Z"
    }
   },
   "outputs": [
    {
     "name": "stdout",
     "output_type": "stream",
     "text": [
      "('Monday',)\n",
      "('Ireland',)\n",
      "('Jamaica',)\n",
      "('AP',)\n",
      "('next',)\n",
      "('score',)\n",
      "('West', 'Bank')\n",
      "('India', 's')\n",
      "('Mariners',)\n",
      "('Arafat',)\n"
     ]
    }
   ],
   "source": [
    "# Top 10 business features.\n",
    "top_business = w_count_mc_T_3.argsort()[:10]\n",
    "for i in top_business:\n",
    "    print(id2word_mc_13[i])"
   ]
  },
  {
   "cell_type": "markdown",
   "metadata": {},
   "source": [
    "These features cannot be generalised by the classifier in the new domain like restaurant and laptop review. Because the most appeard words are not similar in different domains."
   ]
  },
  {
   "cell_type": "markdown",
   "metadata": {},
   "source": [
    "### Discuss how did you choose model hyperparameters (e.g. learning rate and regularisation strength)? What is the relation between training epochs and learning rate? How the regularisation strength affects performance?"
   ]
  },
  {
   "cell_type": "markdown",
   "metadata": {
    "ExecuteTime": {
     "end_time": "2020-02-15T14:16:19.856538Z",
     "start_time": "2020-02-15T14:16:19.852547Z"
    }
   },
   "source": [
    "Explain here...\n",
    "\n",
    "Same as 3.1.1"
   ]
  },
  {
   "cell_type": "markdown",
   "metadata": {},
   "source": [
    "### Now repeat the training and evaluation process for BOW-tfidf, BOCN-count, BOCN-tfidf, BOW+BOCN including hyperparameter tuning..."
   ]
  },
  {
   "cell_type": "markdown",
   "metadata": {},
   "source": [
    "#### MLR BOW-tfidf"
   ]
  },
  {
   "cell_type": "code",
   "execution_count": 30,
   "metadata": {
    "ExecuteTime": {
     "end_time": "2021-02-28T11:12:04.590529Z",
     "start_time": "2021-02-28T11:12:00.149525Z"
    }
   },
   "outputs": [
    {
     "name": "stderr",
     "output_type": "stream",
     "text": [
      "<ipython-input-26-bbcebb5a7fc2>:13: TqdmDeprecationWarning: This function will be removed in tqdm==5.0.0\n",
      "Please use `tqdm.notebook.tqdm` instead of `tqdm.tqdm_notebook`\n",
      "  for epoch in tqdm(range(epochs)):\n"
     ]
    },
    {
     "data": {
      "application/vnd.jupyter.widget-view+json": {
       "model_id": "9ca1180824384be58817d9ed90949abb",
       "version_major": 2,
       "version_minor": 0
      },
      "text/plain": [
       "HBox(children=(FloatProgress(value=0.0, max=10.0), HTML(value='')))"
      ]
     },
     "metadata": {},
     "output_type": "display_data"
    },
    {
     "name": "stdout",
     "output_type": "stream",
     "text": [
      "training loss: 0.005138785399940542\n",
      "validation loss: 0.08839165055066771\n",
      "training loss: 0.0015554413624164092\n",
      "validation loss: 0.08855645717639515\n",
      "training loss: 0.000670833670397217\n",
      "validation loss: 0.08870406544990297\n",
      "training loss: 0.0003211358935339804\n",
      "validation loss: 0.08874254115572655\n",
      "training loss: 0.0003436148662161942\n",
      "validation loss: 0.08863258711406145\n",
      "training loss: 0.00031204903777889715\n",
      "validation loss: 0.08871627853863902\n",
      "training loss: 0.00031327134649345405\n",
      "validation loss: 0.08855323469332392\n",
      "training loss: 0.0003330444307345911\n",
      "validation loss: 0.08860054474147029\n",
      "training loss: 0.00027628172613664015\n",
      "validation loss: 0.08858264170839213\n",
      "training loss: 0.0002481991166002433\n",
      "validation loss: 0.08861985006412779\n",
      "\n"
     ]
    }
   ],
   "source": [
    "w_tfidf_mc, tlh_tfidf_mc, vlh_tfidf_mc = SGD_mc(X_tfidf_vec_train_mc_13,np_train_mc_label,X_tfidf_vec_dev_mc_13,np_dev_mc_label,lr=0.06,alpha=1e-5,num_classes = 3,epochs=10,tolerance=0.000001,print_progress=True)"
   ]
  },
  {
   "cell_type": "code",
   "execution_count": 31,
   "metadata": {
    "ExecuteTime": {
     "end_time": "2021-02-28T11:12:04.999582Z",
     "start_time": "2021-02-28T11:12:04.861457Z"
    },
    "scrolled": true
   },
   "outputs": [
    {
     "data": {
      "text/plain": [
       "Text(0.5, 1.0, 'MLR BoW tfidf Validation Loss')"
      ]
     },
     "execution_count": 31,
     "metadata": {},
     "output_type": "execute_result"
    },
    {
     "data": {
      "image/png": "[encoded data removed]",
      "text/plain": [
       "<Figure size 720x432 with 2 Axes>"
      ]
     },
     "metadata": {
      "needs_background": "light"
     },
     "output_type": "display_data"
    }
   ],
   "source": [
    "plt.figure(figsize=(10,6))\n",
    "plt.subplot(2, 2, 1)\n",
    "plt.plot(np.arange(10), tlh_tfidf_mc)\n",
    "plt.title(\"MLR BoW tfidf Training Loss\")\n",
    "plt.subplot(2, 2, 2)\n",
    "plt.plot(np.arange(10),vlh_tfidf_mc)\n",
    "plt.title(\"MLR BoW tfidf Validation Loss\")"
   ]
  },
  {
   "cell_type": "markdown",
   "metadata": {},
   "source": [
    "The model which uses the best hyperparameter combination(Alpha = 1e-5, Learning Rate = 0.06) does not underfit or overfit. The reason is that the training loss is always on a decreasing trend and does not have generalisation error. The reason of choosing this combination of hyperparameter combination are given in 3.1.1."
   ]
  },
  {
   "cell_type": "code",
   "execution_count": 145,
   "metadata": {
    "ExecuteTime": {
     "end_time": "2021-02-26T22:15:23.954845Z",
     "start_time": "2021-02-26T22:15:23.940831Z"
    }
   },
   "outputs": [
    {
     "name": "stdout",
     "output_type": "stream",
     "text": [
      "Accuracy: 0.8066666666666666\n",
      "Precision: 0.8072300320748079\n",
      "Recall: 0.8066666666666666\n",
      "F1-Score: 0.8064074124123873\n"
     ]
    }
   ],
   "source": [
    "preds_te_tfidf_mc = predict_class_mc(X_tfidf_vec_test_mc_13, w_tfidf_mc)\n",
    "\n",
    "print('Accuracy:', accuracy_score(np_test_mc_label,preds_te_tfidf_mc))\n",
    "print('Precision:', precision_score(np_test_mc_label,preds_te_tfidf_mc,average='macro'))\n",
    "print('Recall:', recall_score(np_test_mc_label,preds_te_tfidf_mc,average='macro'))\n",
    "print('F1-Score:', f1_score(np_test_mc_label,preds_te_tfidf_mc,average='macro'))"
   ]
  },
  {
   "cell_type": "markdown",
   "metadata": {},
   "source": [
    "MLR BOW tfidf model under different combination of hyperparameters.\n",
    "\n",
    "| Alpha | Learning Rate | Precision | Recall | F1-Score |\n",
    "|:-----:|:-------------:|:---------:|:------:|:--------:|\n",
    "|  1e-5 |      0.01     |   0.765   |  0.762 |  0.763  |\n",
    "|  1e-7 |      0.01     |   0.765   |  0.762 |  0.763  |\n",
    "|  1e-5 |      0.06     |   0.807   |  0.807 |   0.806  |\n",
    "|  1e-7 |      0.06     |   0.794   |  0.793 |   0.793  |"
   ]
  },
  {
   "cell_type": "code",
   "execution_count": 147,
   "metadata": {
    "ExecuteTime": {
     "end_time": "2021-02-26T22:17:04.945946Z",
     "start_time": "2021-02-26T22:17:04.941942Z"
    }
   },
   "outputs": [
    {
     "name": "stdout",
     "output_type": "stream",
     "text": [
      "('struggling',)\n",
      "('second', 'quarter', 'earnings')\n",
      "('bundled',)\n",
      "('TOKYO', 'Reuters')\n",
      "('medal', 'Wednesday')\n",
      "('highs',)\n",
      "('half', 'less', 'than')\n",
      "('double', 'trap')\n",
      "('39', 's')\n",
      "('rule',)\n"
     ]
    }
   ],
   "source": [
    "# Top 10 international issue features.\n",
    "w_tfidf_mc_T = w_tfidf_mc.T\n",
    "w_tfidf_mc_T_1 = w_tfidf_mc_T[0]\n",
    "w_tfidf_mc_T_2 = w_tfidf_mc_T[1]\n",
    "w_tfidf_mc_T_3 = w_tfidf_mc_T[2]\n",
    "top_inter = w_tfidf_mc_T_1.argsort()[:10]\n",
    "for i in top_inter:\n",
    "    print(id2word_mc_13[i])"
   ]
  },
  {
   "cell_type": "code",
   "execution_count": 315,
   "metadata": {
    "ExecuteTime": {
     "end_time": "2021-02-26T22:56:44.605751Z",
     "start_time": "2021-02-26T22:56:44.602748Z"
    }
   },
   "outputs": [
    {
     "name": "stdout",
     "output_type": "stream",
     "text": [
      "('Jewish', 'West', 'Bank')\n",
      "('John', 'Kerry')\n",
      "('O', 'lt', 'A')\n",
      "('attack',)\n",
      "('S',)\n",
      "('suspects',)\n",
      "('President',)\n",
      "('Co',)\n",
      "('Google', '39')\n",
      "('chemicals',)\n"
     ]
    }
   ],
   "source": [
    "# Top 10 sport features.\n",
    "top_sport = w_tfidf_mc_T_2.argsort()[:10]\n",
    "for i in top_sport:\n",
    "    print(id2word_mc_13[i])"
   ]
  },
  {
   "cell_type": "code",
   "execution_count": 316,
   "metadata": {
    "ExecuteTime": {
     "end_time": "2021-02-26T22:56:46.248727Z",
     "start_time": "2021-02-26T22:56:46.243708Z"
    }
   },
   "outputs": [
    {
     "name": "stdout",
     "output_type": "stream",
     "text": [
      "('Monday',)\n",
      "('ATHENS',)\n",
      "('served',)\n",
      "('D',)\n",
      "('AP',)\n",
      "('their', 'country')\n",
      "('Red',)\n",
      "('session',)\n",
      "('second', 'gold')\n",
      "('really',)\n"
     ]
    }
   ],
   "source": [
    "# Top 10 business features.\n",
    "top_sport = w_tfidf_mc_T_3.argsort()[:10]\n",
    "for i in top_sport:\n",
    "    print(id2word_mc_13[i])"
   ]
  },
  {
   "cell_type": "markdown",
   "metadata": {},
   "source": [
    "These features cannot be generalised by the classifier in the new domain like restaurant and laptop review. Because the most appeard words are not similar in different domains."
   ]
  },
  {
   "cell_type": "markdown",
   "metadata": {},
   "source": [
    "#### MLR BOCN-count"
   ]
  },
  {
   "cell_type": "code",
   "execution_count": 33,
   "metadata": {
    "ExecuteTime": {
     "end_time": "2021-02-28T11:14:59.326823Z",
     "start_time": "2021-02-28T11:14:58.521754Z"
    }
   },
   "outputs": [],
   "source": [
    "# Extract character ngrams from data.\n",
    "X_ngram_mc_train_ch = ngram_list_mc(np_train_mc,ngram_range=(2,4),token_pattern=r'[^a-zA-Z0-9\\s]',stop_words=stop_words,char_ngrams=True)\n",
    "X_ngram_mc_dev_ch = ngram_list_mc(np_dev_mc,ngram_range=(2,4),token_pattern=r'[^a-zA-Z0-9\\s]',stop_words=stop_words,char_ngrams=True)\n",
    "X_ngram_mc_test_ch = ngram_list_mc(np_test_mc,ngram_range=(2,4),token_pattern=r'[^a-zA-Z0-9\\s]',stop_words=stop_words,char_ngrams=True)"
   ]
  },
  {
   "cell_type": "code",
   "execution_count": 34,
   "metadata": {
    "ExecuteTime": {
     "end_time": "2021-02-28T11:15:08.549418Z",
     "start_time": "2021-02-28T11:15:00.526915Z"
    }
   },
   "outputs": [],
   "source": [
    "# The min_df is 5, Top_words is 300.\n",
    "vocab_mc_train_ch, df_mc_train_ch, ngram_counts_mc_trian_ch = get_vocab_mc(np_train_mc,ngram_range=(2,4),token_pattern=r'[^a-zA-Z0-9\\s]',stop_words=stop_words,min_df=5,keep_topN=300,char_ngrams=True)"
   ]
  },
  {
   "cell_type": "code",
   "execution_count": 35,
   "metadata": {
    "ExecuteTime": {
     "end_time": "2021-02-28T11:15:09.850440Z",
     "start_time": "2021-02-28T11:15:09.843433Z"
    }
   },
   "outputs": [],
   "source": [
    "id2word_mc_ch = dict(enumerate(vocab_mc_train_ch))\n",
    "word2id_mc_ch = dict(zip(id2word_mc_ch.values(),id2word_mc_ch))"
   ]
  },
  {
   "cell_type": "code",
   "execution_count": 36,
   "metadata": {
    "ExecuteTime": {
     "end_time": "2021-02-28T11:16:13.584139Z",
     "start_time": "2021-02-28T11:15:11.176401Z"
    }
   },
   "outputs": [],
   "source": [
    "# Vectorise count and tfidf data.\n",
    "X_vec_mc_train_ch = vectorise(X_ngram_mc_train_ch,word2id_mc_ch)\n",
    "X_vec_mc_dev_ch = vectorise(X_ngram_mc_dev_ch,word2id_mc_ch)\n",
    "X_vec_mc_test_ch = vectorise(X_ngram_mc_test_ch,word2id_mc_ch)\n",
    "X_tfidf_vec_mc_train_ch = computeTFIDF(X_vec_mc_train_ch,word2id_mc_ch,df_mc_train_ch)\n",
    "X_tfidf_vec_mc_dev_ch = computeTFIDF(X_vec_mc_dev_ch,word2id_mc_ch,df_mc_train_ch)\n",
    "X_tfidf_vec_mc_test_ch = computeTFIDF(X_vec_mc_test_ch,word2id_mc_ch,df_mc_train_ch)"
   ]
  },
  {
   "cell_type": "code",
   "execution_count": 37,
   "metadata": {
    "ExecuteTime": {
     "end_time": "2021-02-28T11:16:30.820955Z",
     "start_time": "2021-02-28T11:16:14.931364Z"
    }
   },
   "outputs": [
    {
     "name": "stderr",
     "output_type": "stream",
     "text": [
      "<ipython-input-26-bbcebb5a7fc2>:13: TqdmDeprecationWarning: This function will be removed in tqdm==5.0.0\n",
      "Please use `tqdm.notebook.tqdm` instead of `tqdm.tqdm_notebook`\n",
      "  for epoch in tqdm(range(epochs)):\n"
     ]
    },
    {
     "data": {
      "application/vnd.jupyter.widget-view+json": {
       "model_id": "6e6b114c64db4627a735a8211ef71383",
       "version_major": 2,
       "version_minor": 0
      },
      "text/plain": [
       "HBox(children=(FloatProgress(value=0.0, max=10.0), HTML(value='')))"
      ]
     },
     "metadata": {},
     "output_type": "display_data"
    },
    {
     "name": "stdout",
     "output_type": "stream",
     "text": [
      "training loss: 0.00020652173162449846\n",
      "validation loss: 0.09148938131523755\n",
      "training loss: 0.00011360922614692549\n",
      "validation loss: 0.09148938131988812\n",
      "training loss: 2.804653805645129e-06\n",
      "validation loss: 0.09124373776567475\n",
      "training loss: 5.482011293981212e-06\n",
      "validation loss: 0.09148938132326748\n",
      "training loss: 3.4382878806297244e-06\n",
      "validation loss: 0.09148938132488527\n",
      "training loss: 1.7780818251204794e-06\n",
      "validation loss: 0.09134644506614548\n",
      "training loss: 1.0432972699808798e-06\n",
      "validation loss: 0.09131303490263702\n",
      "training loss: 1.371130623662603e-06\n",
      "validation loss: 0.09147089358444042\n",
      "training loss: 1.9747860076686744e-06\n",
      "validation loss: 0.09129873591533468\n",
      "training loss: 1.6549993202161998e-06\n",
      "validation loss: 0.0913831450490206\n",
      "\n"
     ]
    }
   ],
   "source": [
    "w_count_mc_ch, tlh_count_mc_ch, vlh_count_mc_ch = SGD_mc(X_vec_mc_train_ch,np_train_mc_label,X_vec_mc_dev_ch,np_dev_mc_label,lr=0.06,alpha=1e-5,num_classes = 3,epochs=10,tolerance=1e-8,print_progress=True)"
   ]
  },
  {
   "cell_type": "code",
   "execution_count": 38,
   "metadata": {
    "ExecuteTime": {
     "end_time": "2021-02-28T11:16:32.330948Z",
     "start_time": "2021-02-28T11:16:32.187817Z"
    }
   },
   "outputs": [
    {
     "data": {
      "text/plain": [
       "Text(0.5, 1.0, 'MLR BoCN Count Validation Loss')"
      ]
     },
     "execution_count": 38,
     "metadata": {},
     "output_type": "execute_result"
    },
    {
     "data": {
      "image/png": "[encoded data removed]",
      "text/plain": [
       "<Figure size 720x432 with 2 Axes>"
      ]
     },
     "metadata": {
      "needs_background": "light"
     },
     "output_type": "display_data"
    }
   ],
   "source": [
    "plt.figure(figsize=(10,6))\n",
    "plt.subplot(2, 2, 1)\n",
    "plt.plot(np.arange(10), tlh_count_mc_ch)\n",
    "plt.title(\"MLR BoCN Count Training Loss\")\n",
    "plt.subplot(2, 2, 2)\n",
    "plt.plot(np.arange(10),vlh_count_mc_ch)\n",
    "plt.title(\"MLR BoCN Count Validation Loss\")"
   ]
  },
  {
   "cell_type": "markdown",
   "metadata": {},
   "source": [
    "The model which uses the best hyperparameter combination(Alpha = 1e-5, Learning Rate = 0.06) does not underfit or overfit. The reason is that the training loss is always on a decreasing trend and does not have generalisation error. The reason of choosing this combination of hyperparameter combination are given in 3.1.1."
   ]
  },
  {
   "cell_type": "code",
   "execution_count": 158,
   "metadata": {
    "ExecuteTime": {
     "end_time": "2021-02-26T22:21:25.965742Z",
     "start_time": "2021-02-26T22:21:25.947721Z"
    }
   },
   "outputs": [
    {
     "name": "stdout",
     "output_type": "stream",
     "text": [
      "Accuracy: 0.81\n",
      "Precision: 0.8119614087673286\n",
      "Recall: 0.81\n",
      "F1-Score: 0.8104790204955573\n"
     ]
    }
   ],
   "source": [
    "preds_te_count_mc_ch = predict_class_mc(X_vec_mc_test_ch, w_count_mc_ch)\n",
    "\n",
    "print('Accuracy:', accuracy_score(np_test_mc_label,preds_te_count_mc_ch))\n",
    "print('Precision:', precision_score(np_test_mc_label,preds_te_count_mc_ch,average='macro'))\n",
    "print('Recall:', recall_score(np_test_mc_label,preds_te_count_mc_ch,average='macro'))\n",
    "print('F1-Score:', f1_score(np_test_mc_label,preds_te_count_mc_ch,average='macro'))"
   ]
  },
  {
   "cell_type": "markdown",
   "metadata": {},
   "source": [
    "MLR BOCN count model under different combination of hyperparameters.\n",
    "\n",
    "| Alpha | Learning Rate | Precision | Recall | F1-Score |\n",
    "|:-----:|:-------------:|:---------:|:------:|:--------:|\n",
    "|  1e-5 |      0.01     |   0.760   |  0.754 |  0.756  |\n",
    "|  1e-7 |      0.01     |   0.759   |  0.743 |  0.743  |\n",
    "|  1e-5 |      0.06     |   0.812   |  0.810 |   0.810  |\n",
    "|  1e-7 |      0.06     |   0.809   |  0.807 |   0.807  |"
   ]
  },
  {
   "cell_type": "code",
   "execution_count": 309,
   "metadata": {
    "ExecuteTime": {
     "end_time": "2021-02-26T22:55:57.331663Z",
     "start_time": "2021-02-26T22:55:57.326659Z"
    }
   },
   "outputs": [
    {
     "name": "stdout",
     "output_type": "stream",
     "text": [
      "('1', 'w')\n",
      "('a', 'l', 'm', 'e')\n",
      "('e', 'b', 'a')\n",
      "('e', 'g', 'r')\n",
      "('u', 'w')\n",
      "('i', 'n', 'g', 'a')\n",
      "('e', 's', 'm', 'o')\n",
      "('i', 's', 's', 'c')\n",
      "('e', 'e', 'r', 'h')\n",
      "('d', 'e', 's')\n"
     ]
    }
   ],
   "source": [
    "# Top 10 international issue features.\n",
    "w_count_mc_ch_T = w_count_mc_ch.T\n",
    "w_count_mc_ch_T_1 = w_count_mc_ch_T[0]\n",
    "w_count_mc_ch_T_2 = w_count_mc_ch_T[1]\n",
    "w_count_mc_ch_T_3 = w_count_mc_ch_T[2]\n",
    "top_inter = w_count_mc_ch_T_1.argsort()[:10]\n",
    "for i in top_inter:\n",
    "    print(id2word_mc_ch[i])"
   ]
  },
  {
   "cell_type": "code",
   "execution_count": 312,
   "metadata": {
    "ExecuteTime": {
     "end_time": "2021-02-26T22:56:25.631799Z",
     "start_time": "2021-02-26T22:56:25.627805Z"
    }
   },
   "outputs": [
    {
     "name": "stdout",
     "output_type": "stream",
     "text": [
      "('e', 'c', 'e', 'M')\n",
      "('E', 'N', 'S', 'G')\n",
      "('i', 'n', 't', 'o')\n",
      "('N', 'S', 'G', 'r')\n",
      "('m', 'w', 'i')\n",
      "('s', 'e', 's', 'p')\n",
      "('e', 'M', 'i', 'c')\n",
      "('t', 'e', 'v')\n",
      "('a', 'l', 'a', 'r')\n",
      "('i', 'r', 'e', 'b')\n"
     ]
    }
   ],
   "source": [
    "# Top 10 sport features.\n",
    "top_sport = w_count_mc_ch_T_2.argsort()[:10]\n",
    "for i in top_sport:\n",
    "    print(id2word_mc_ch[i])"
   ]
  },
  {
   "cell_type": "code",
   "execution_count": 313,
   "metadata": {
    "ExecuteTime": {
     "end_time": "2021-02-26T22:56:27.425011Z",
     "start_time": "2021-02-26T22:56:27.421008Z"
    }
   },
   "outputs": [
    {
     "name": "stdout",
     "output_type": "stream",
     "text": [
      "('A', 'F')\n",
      "('A', 'P')\n",
      "('a', 'm')\n",
      "('o', 'n', 'd', 'a')\n",
      "('s', 's', 'a', 'b')\n",
      "('E', 'n', 'g', 'l')\n",
      "('e', 'p', 't', 'i')\n",
      "('o', 'x', 'i')\n",
      "('a', 'g', 'e')\n",
      "('m', 'p', 'o')\n"
     ]
    }
   ],
   "source": [
    "# Top 10 business features.\n",
    "top_business = w_count_mc_ch_T_3.argsort()[:10]\n",
    "for i in top_business:\n",
    "    print(id2word_mc_ch[i])"
   ]
  },
  {
   "cell_type": "markdown",
   "metadata": {},
   "source": [
    "These features cannot be generalised by the classifier in the new domain like restaurant and laptop review. Because the most appeard words are not similar in different domains."
   ]
  },
  {
   "cell_type": "markdown",
   "metadata": {},
   "source": [
    "#### MLR BOCN-tfidf"
   ]
  },
  {
   "cell_type": "code",
   "execution_count": 56,
   "metadata": {
    "ExecuteTime": {
     "end_time": "2021-02-27T13:53:05.235762Z",
     "start_time": "2021-02-27T13:52:49.132158Z"
    },
    "scrolled": true
   },
   "outputs": [
    {
     "name": "stderr",
     "output_type": "stream",
     "text": [
      "<ipython-input-20-bbcebb5a7fc2>:13: TqdmDeprecationWarning: This function will be removed in tqdm==5.0.0\n",
      "Please use `tqdm.notebook.tqdm` instead of `tqdm.tqdm_notebook`\n",
      "  for epoch in tqdm(range(epochs)):\n"
     ]
    },
    {
     "data": {
      "application/vnd.jupyter.widget-view+json": {
       "model_id": "d40e3922f5d64eefbad4655d8ca78666",
       "version_major": 2,
       "version_minor": 0
      },
      "text/plain": [
       "HBox(children=(FloatProgress(value=0.0, max=10.0), HTML(value='')))"
      ]
     },
     "metadata": {},
     "output_type": "display_data"
    },
    {
     "name": "stdout",
     "output_type": "stream",
     "text": [
      "training loss: 6.48650496023964e-05\n",
      "validation loss: 0.09148938131527894\n",
      "training loss: 1.8393436895707936e-06\n",
      "validation loss: 0.09148938131954819\n",
      "training loss: 2.2881905375303174e-06\n",
      "validation loss: 0.0914893813216015\n",
      "training loss: 1.7214924324950533e-06\n",
      "validation loss: 0.09148938132278116\n",
      "training loss: 1.9536260851835346e-06\n",
      "validation loss: 0.09148938132372979\n",
      "training loss: 2.240813267518371e-06\n",
      "validation loss: 0.0914893813248381\n",
      "training loss: 1.1173644439579299e-06\n",
      "validation loss: 0.09148938132544608\n",
      "training loss: 1.8710420696617589e-06\n",
      "validation loss: 0.09148938132629082\n",
      "training loss: 1.0922152401201752e-06\n",
      "validation loss: 0.09148938132642709\n",
      "training loss: 1.5323644099634916e-06\n",
      "validation loss: 0.09148938132709815\n",
      "\n"
     ]
    }
   ],
   "source": [
    "w_tfidf_mc_ch, tlh_tfidf_mc_ch, vlh_tfidf_mc_ch = SGD_mc(X_tfidf_vec_mc_train_ch,np_train_mc_label,X_tfidf_vec_mc_dev_ch,np_dev_mc_label,lr=0.06,alpha = 1e-5,num_classes = 3,epochs=10,tolerance=1e-8,print_progress=True)"
   ]
  },
  {
   "cell_type": "code",
   "execution_count": 57,
   "metadata": {
    "ExecuteTime": {
     "end_time": "2021-02-27T13:53:06.819625Z",
     "start_time": "2021-02-27T13:53:06.679529Z"
    }
   },
   "outputs": [
    {
     "data": {
      "text/plain": [
       "Text(0.5, 1.0, 'MLR BoCN tfidf Validation Loss')"
      ]
     },
     "execution_count": 57,
     "metadata": {},
     "output_type": "execute_result"
    },
    {
     "data": {
      "image/png": "[encoded data removed]",
      "text/plain": [
       "<Figure size 720x432 with 2 Axes>"
      ]
     },
     "metadata": {
      "needs_background": "light"
     },
     "output_type": "display_data"
    }
   ],
   "source": [
    "plt.figure(figsize=(10,6))\n",
    "plt.subplot(2, 2, 1)\n",
    "plt.plot(np.arange(10), tlh_tfidf_mc_ch)\n",
    "plt.title(\"MLR BoCN tfidf Training Loss\")\n",
    "plt.subplot(2, 2, 2)\n",
    "plt.plot(np.arange(10),vlh_tfidf_mc_ch)\n",
    "plt.title(\"MLR BoCN tfidf Validation Loss\")"
   ]
  },
  {
   "cell_type": "markdown",
   "metadata": {},
   "source": [
    "The model which uses the best hyperparameter combination(Alpha = 1e-7, Learning Rate = 0.06) does not underfit or overfit. The reason is that the training loss is always on a decreasing trend and does not have generalisation error. The reason of choosing this combination of hyperparameter combination are given in 3.1.1."
   ]
  },
  {
   "cell_type": "code",
   "execution_count": 58,
   "metadata": {
    "ExecuteTime": {
     "end_time": "2021-02-27T13:53:08.243283Z",
     "start_time": "2021-02-27T13:53:08.227268Z"
    }
   },
   "outputs": [
    {
     "name": "stdout",
     "output_type": "stream",
     "text": [
      "Accuracy: 0.8255555555555556\n",
      "Precision: 0.8272364909724151\n",
      "Recall: 0.8255555555555555\n",
      "F1-Score: 0.8253130481914983\n"
     ]
    }
   ],
   "source": [
    "preds_te_tfidf_mc_ch = predict_class_mc(X_tfidf_vec_mc_test_ch, w_tfidf_mc_ch)\n",
    "\n",
    "print('Accuracy:', accuracy_score(np_test_mc_label,preds_te_tfidf_mc_ch))\n",
    "print('Precision:', precision_score(np_test_mc_label,preds_te_tfidf_mc_ch,average='macro'))\n",
    "print('Recall:', recall_score(np_test_mc_label,preds_te_tfidf_mc_ch,average='macro'))\n",
    "print('F1-Score:', f1_score(np_test_mc_label,preds_te_tfidf_mc_ch,average='macro'))"
   ]
  },
  {
   "cell_type": "markdown",
   "metadata": {},
   "source": [
    "MLR BOCN tfidf model under different combination of hyperparameters.\n",
    "\n",
    "| Alpha | Learning Rate | Precision | Recall | F1-Score |\n",
    "|:-----:|:-------------:|:---------:|:------:|:--------:|\n",
    "|  1e-5 |      0.01     |   0.743   |  0.741 |  0.741  |\n",
    "|  1e-7 |      0.01     |   0.755   |  0.752 |  0.752  |\n",
    "|  1e-5 |      0.06     |   0.811   |  0.803 |   0.804  |\n",
    "|  1e-7 |      0.06     |   0.827   |  0.826 |   0.825  |"
   ]
  },
  {
   "cell_type": "code",
   "execution_count": 247,
   "metadata": {
    "ExecuteTime": {
     "end_time": "2021-02-26T22:41:00.166498Z",
     "start_time": "2021-02-26T22:41:00.161493Z"
    }
   },
   "outputs": [
    {
     "name": "stdout",
     "output_type": "stream",
     "text": [
      "('l', 'i', 'o', 'n')\n",
      "('a', 's', 'o', 'n')\n",
      "('A', 'P', 'M', 'i')\n",
      "('l', 'f')\n",
      "('q', 'u')\n",
      "('l', 'o')\n",
      "('p', 'e', 'c', 'i')\n",
      "('H', 'I', 'C', 'A')\n",
      "('O', 'R', 'e', 'u')\n",
      "('g', 'o', 'u', 't')\n"
     ]
    }
   ],
   "source": [
    "# Top 10 international issue features.\n",
    "w_tfidf_mc_ch_T = w_tfidf_mc_ch.T\n",
    "w_tfidf_mc_ch_T_1 = w_tfidf_mc_ch_T[0]\n",
    "w_tfidf_mc_ch_T_2 = w_tfidf_mc_ch_T[1]\n",
    "w_tfidf_mc_ch_T_3 = w_tfidf_mc_ch_T[2]\n",
    "top_inter = w_tfidf_mc_ch_T_1.argsort()[:10]\n",
    "for i in top_inter:\n",
    "    print(id2word_mc_ch[i])"
   ]
  },
  {
   "cell_type": "code",
   "execution_count": 317,
   "metadata": {
    "ExecuteTime": {
     "end_time": "2021-02-26T22:56:56.791272Z",
     "start_time": "2021-02-26T22:56:56.786896Z"
    }
   },
   "outputs": [
    {
     "name": "stdout",
     "output_type": "stream",
     "text": [
      "('e', 'c', 'e', 'M')\n",
      "('n', 'w', 'i', 'l')\n",
      "('d', 'u', 's')\n",
      "('S', 'G', 'r', 'e')\n",
      "('e', 'e', 'c', 'e')\n",
      "('S', 'G')\n",
      "('n', 'c')\n",
      "('e', 'a', 'i')\n",
      "('e', 'g', 'o', 'v')\n",
      "('M', 'I', 'L')\n"
     ]
    }
   ],
   "source": [
    "# Top 10 sport features.\n",
    "top_sport = w_tfidf_mc_ch_T_2.argsort()[:10]\n",
    "for i in top_sport:\n",
    "    print(id2word_mc_ch[i])"
   ]
  },
  {
   "cell_type": "code",
   "execution_count": 318,
   "metadata": {
    "ExecuteTime": {
     "end_time": "2021-02-26T22:56:59.417596Z",
     "start_time": "2021-02-26T22:56:59.413592Z"
    }
   },
   "outputs": [
    {
     "name": "stdout",
     "output_type": "stream",
     "text": [
      "('A', 'F')\n",
      "('e', 'm', 'o')\n",
      "('g', 'u', 'a')\n",
      "('l', 't', 'r', 'y')\n",
      "('y', 'a', 'c')\n",
      "('e', 'n', 's')\n",
      "('s', 't', 'a', 't')\n",
      "('o', 'l', 'a', 'n')\n",
      "('r', 'a', 'e', 'l')\n",
      "('S', 'u')\n"
     ]
    }
   ],
   "source": [
    "# Top 10 business features.\n",
    "top_business = w_tfidf_mc_ch_T_3.argsort()[:10]\n",
    "for i in top_business:\n",
    "    print(id2word_mc_ch[i])"
   ]
  },
  {
   "cell_type": "markdown",
   "metadata": {},
   "source": [
    "These features cannot be generalised by the classifier in the new domain like restaurant and laptop review. Because the most appeard words are not similar in different domains."
   ]
  },
  {
   "cell_type": "markdown",
   "metadata": {},
   "source": [
    "#### MLR BOW+BOCN"
   ]
  },
  {
   "cell_type": "code",
   "execution_count": 62,
   "metadata": {
    "ExecuteTime": {
     "end_time": "2021-02-27T13:54:40.882997Z",
     "start_time": "2021-02-27T13:54:40.632546Z"
    }
   },
   "outputs": [],
   "source": [
    "# Merge data.\n",
    "X_vec_mc_train_com = np.hstack((X_tfidf_vec_train_mc_13,X_tfidf_vec_mc_train_ch))\n",
    "X_vec_mc_dev_com = np.hstack((X_tfidf_vec_dev_mc_13,X_tfidf_vec_mc_dev_ch))\n",
    "X_vec_mc_test_com = np.hstack((X_tfidf_vec_test_mc_13,X_tfidf_vec_mc_test_ch))"
   ]
  },
  {
   "cell_type": "code",
   "execution_count": 65,
   "metadata": {
    "ExecuteTime": {
     "end_time": "2021-02-27T13:55:27.779440Z",
     "start_time": "2021-02-27T13:55:09.079287Z"
    },
    "scrolled": true
   },
   "outputs": [
    {
     "name": "stderr",
     "output_type": "stream",
     "text": [
      "<ipython-input-20-bbcebb5a7fc2>:13: TqdmDeprecationWarning: This function will be removed in tqdm==5.0.0\n",
      "Please use `tqdm.notebook.tqdm` instead of `tqdm.tqdm_notebook`\n",
      "  for epoch in tqdm(range(epochs)):\n"
     ]
    },
    {
     "data": {
      "application/vnd.jupyter.widget-view+json": {
       "model_id": "0390c1df167a45beb49bc06d25373ad9",
       "version_major": 2,
       "version_minor": 0
      },
      "text/plain": [
       "HBox(children=(FloatProgress(value=0.0, max=10.0), HTML(value='')))"
      ]
     },
     "metadata": {},
     "output_type": "display_data"
    },
    {
     "name": "stdout",
     "output_type": "stream",
     "text": [
      "training loss: 6.220623488458146e-05\n",
      "validation loss: 0.09148938107496825\n",
      "training loss: 2.2174643272248324e-06\n",
      "validation loss: 0.0914893810750046\n",
      "training loss: 1.6965746572810081e-06\n",
      "validation loss: 0.09148938107502506\n",
      "training loss: 1.6965150903900052e-06\n",
      "validation loss: 0.09075994262465228\n",
      "training loss: 1.5618004195191725e-06\n",
      "validation loss: 0.09148938107503832\n",
      "training loss: 1.1507768475109733e-06\n",
      "validation loss: 0.09089793120858868\n",
      "training loss: 1.3226894965304748e-06\n",
      "validation loss: 0.0914893810750538\n",
      "training loss: 1.0003467047663242e-06\n",
      "validation loss: 0.0913568274360837\n",
      "training loss: 1.0995223176698044e-06\n",
      "validation loss: 0.09148938107505918\n",
      "training loss: 1.8570565259726525e-06\n",
      "validation loss: 0.09148938107505757\n",
      "\n"
     ]
    }
   ],
   "source": [
    "w_com_mc, tlh_com_mc, vlh_com_mc = SGD_mc(X_vec_mc_train_com,np_train_mc_label,X_vec_mc_dev_com,np_dev_mc_label,lr=0.06,alpha=1e-7,epochs=10,num_classes = 3,tolerance=1e-4,print_progress=True)"
   ]
  },
  {
   "cell_type": "code",
   "execution_count": 66,
   "metadata": {
    "ExecuteTime": {
     "end_time": "2021-02-27T13:55:29.390168Z",
     "start_time": "2021-02-27T13:55:29.241265Z"
    }
   },
   "outputs": [
    {
     "data": {
      "text/plain": [
       "Text(0.5, 1.0, 'MLR BoW + BoCN tfidf Validation Loss')"
      ]
     },
     "execution_count": 66,
     "metadata": {},
     "output_type": "execute_result"
    },
    {
     "data": {
      "image/png": "[encoded data removed]",
      "text/plain": [
       "<Figure size 720x432 with 2 Axes>"
      ]
     },
     "metadata": {
      "needs_background": "light"
     },
     "output_type": "display_data"
    }
   ],
   "source": [
    "plt.figure(figsize=(10,6))\n",
    "plt.subplot(2, 2, 1)\n",
    "plt.plot(np.arange(10), tlh_com_mc)\n",
    "plt.title(\"MLR BoW + BoCN tfidf Training Loss\")\n",
    "plt.subplot(2, 2, 2)\n",
    "plt.plot(np.arange(10),vlh_com_mc)\n",
    "plt.title(\"MLR BoW + BoCN tfidf Validation Loss\")"
   ]
  },
  {
   "cell_type": "markdown",
   "metadata": {},
   "source": [
    "The model which uses the best hyperparameter combination(Alpha = 1e-7, Learning Rate = 0.06) does not underfit or overfit. The reason is that the training loss is always on a decreasing trend and does not have generalisation error. The reason of choosing this combination of hyperparameter combination are given in 3.1.1."
   ]
  },
  {
   "cell_type": "code",
   "execution_count": 303,
   "metadata": {
    "ExecuteTime": {
     "end_time": "2021-02-26T22:52:03.554821Z",
     "start_time": "2021-02-26T22:52:03.537803Z"
    }
   },
   "outputs": [
    {
     "name": "stdout",
     "output_type": "stream",
     "text": [
      "Accuracy: 0.83\n",
      "Precision: 0.8299823892844581\n",
      "Recall: 0.8300000000000001\n",
      "F1-Score: 0.8290187432354162\n"
     ]
    }
   ],
   "source": [
    "preds_te_com_mc = predict_class_mc(X_vec_mc_test_com, w_com_mc)\n",
    "\n",
    "print('Accuracy:', accuracy_score(np_test_mc_label,preds_te_com_mc))\n",
    "print('Precision:', precision_score(np_test_mc_label,preds_te_com_mc,average='macro'))\n",
    "print('Recall:', recall_score(np_test_mc_label,preds_te_com_mc,average='macro'))\n",
    "print('F1-Score:', f1_score(np_test_mc_label,preds_te_com_mc,average='macro'))"
   ]
  },
  {
   "cell_type": "markdown",
   "metadata": {},
   "source": [
    "MLR BOW + BOCN tfidf model under different combination of hyperparameters.\n",
    "\n",
    "| Alpha | Learning Rate | Precision | Recall | F1-Score |\n",
    "|:-----:|:-------------:|:---------:|:------:|:--------:|\n",
    "|  1e-5 |      0.01     |   0.727   |  0.727 |  0.727  |\n",
    "|  1e-7 |      0.01     |   0.758   |  0.751 |  0.751  |\n",
    "|  1e-5 |      0.06     |   0.824   |  0.823 |   0.823  |\n",
    "|  1e-7 |      0.06     |   0.830   |  0.830 |   0.829  |"
   ]
  },
  {
   "cell_type": "code",
   "execution_count": 319,
   "metadata": {
    "ExecuteTime": {
     "end_time": "2021-02-26T23:01:01.399149Z",
     "start_time": "2021-02-26T23:01:01.390140Z"
    }
   },
   "outputs": [],
   "source": [
    "# Merge id word dictionaries.\n",
    "id2word_mc_com = id2word_mc_13.copy()\n",
    "index = len(id2word_mc_13)\n",
    "for k,v in id2word_mc_ch.items():\n",
    "    id2word_mc_com[k+index] = v"
   ]
  },
  {
   "cell_type": "code",
   "execution_count": 321,
   "metadata": {
    "ExecuteTime": {
     "end_time": "2021-02-26T23:01:11.467466Z",
     "start_time": "2021-02-26T23:01:11.461461Z"
    }
   },
   "outputs": [
    {
     "name": "stdout",
     "output_type": "stream",
     "text": [
      "('O', 'R', 'e', 'u')\n",
      "('1', '5', '1')\n",
      "('A', 'i', 'r')\n",
      "('round',)\n",
      "('elbow',)\n",
      "('a', 'b', 'a')\n",
      "('l', 'l', 'b', 'a')\n",
      "('e', 'd', 'p', 'r')\n",
      "('O', 'R', 'e')\n",
      "('AP', 'The')\n"
     ]
    }
   ],
   "source": [
    "# Top 10 international issue features.\n",
    "w_com_mc_T = w_com_mc.T\n",
    "w_com_mc_T_1 = w_com_mc_T[0]\n",
    "w_com_mc_T_2 = w_com_mc_T[1]\n",
    "w_com_mc_T_3 = w_com_mc_T[2]\n",
    "top_inter = w_com_mc_T_1.argsort()[:10]\n",
    "for i in top_inter:\n",
    "    print(id2word_mc_com[i])"
   ]
  },
  {
   "cell_type": "code",
   "execution_count": 322,
   "metadata": {
    "ExecuteTime": {
     "end_time": "2021-02-26T23:01:13.879695Z",
     "start_time": "2021-02-26T23:01:13.874692Z"
    }
   },
   "outputs": [
    {
     "name": "stdout",
     "output_type": "stream",
     "text": [
      "('e', 'r', 'm', 'o')\n",
      "('l', 'e', 'c', 't')\n",
      "('s', 'N', 'e', 'w')\n",
      "('y', 'T')\n",
      "('n', 'g', 'o')\n",
      "('l', 'u', 's', 't')\n",
      "('k', 'm', 'a', 'r')\n",
      "('ever',)\n",
      "('m', 'o', 'n', 's')\n",
      "('s', 'c', 'r', 'a')\n"
     ]
    }
   ],
   "source": [
    "# Top 10 sport features.\n",
    "top_sport = w_com_mc_T_2.argsort()[:10]\n",
    "for i in top_sport:\n",
    "    print(id2word_mc_com[i])"
   ]
  },
  {
   "cell_type": "code",
   "execution_count": 324,
   "metadata": {
    "ExecuteTime": {
     "end_time": "2021-02-26T23:04:49.111978Z",
     "start_time": "2021-02-26T23:04:49.107974Z"
    }
   },
   "outputs": [
    {
     "name": "stdout",
     "output_type": "stream",
     "text": [
      "('n', 's', 'p')\n",
      "('arena',)\n",
      "('s', 'h', 'u')\n",
      "('o', 'u')\n",
      "('Canadian', 'Press')\n",
      "('t', 'h', 'n', 'i')\n",
      "('e', 's', 'l', 'a')\n",
      "('two',)\n",
      "('a', 'n', 'a', 'd')\n",
      "('s', 'p', 'i')\n"
     ]
    }
   ],
   "source": [
    "# Top 10 business features.\n",
    "top_business = w_com_mc_T_3.argsort()[:10]\n",
    "for i in top_business:\n",
    "    print(id2word_mc_com[i])"
   ]
  },
  {
   "cell_type": "markdown",
   "metadata": {},
   "source": [
    "These features cannot be generalised by the classifier in the new domain like restaurant and laptop review. Because the most appeard words are not similar in different domains."
   ]
  },
  {
   "cell_type": "markdown",
   "metadata": {
    "ExecuteTime": {
     "end_time": "2020-02-15T14:16:42.567569Z",
     "start_time": "2020-02-15T14:16:42.562560Z"
    }
   },
   "source": [
    "## Full Results\n",
    "\n",
    "Add here your results:\n",
    "\n",
    "| LR | Precision  | Recall  | F1-Score  |\n",
    "|:-:|:-:|:-:|:-:|\n",
    "| BOW-count  | 0.797   |  0.796 |   0.795  |\n",
    "| BOW-tfidf  | 0.807   |  0.807 |   0.806  |\n",
    "| BOCN-count  | 0.812   |  0.810 |   0.810  |\n",
    "| BOCN-tfidf  | 0.827   |  0.826 |   0.825  |\n",
    "| BOW+BOCN  | 0.830   |  0.830 |   0.829  |\n",
    "\n",
    "Please discuss why your best performing model is better than the rest.\n",
    "\n",
    "Same as 3.3"
   ]
  }
 ],
 "metadata": {
  "kernelspec": {
   "display_name": "Python 3",
   "language": "python",
   "name": "python3"
  },
  "language_info": {
   "codemirror_mode": {
    "name": "ipython",
    "version": 3
   },
   "file_extension": ".py",
   "mimetype": "text/x-python",
   "name": "python",
   "nbconvert_exporter": "python",
   "pygments_lexer": "ipython3",
   "version": "3.8.3"
  },
  "toc": {
   "base_numbering": 1,
   "nav_menu": {},
   "number_sections": true,
   "sideBar": true,
   "skip_h1_title": false,
   "title_cell": "Table of Contents",
   "title_sidebar": "Contents",
   "toc_cell": false,
   "toc_position": {},
   "toc_section_display": true,
   "toc_window_display": false
  },
  "varInspector": {
   "cols": {
    "lenName": 16,
    "lenType": 16,
    "lenVar": 40
   },
   "kernels_config": {
    "python": {
     "delete_cmd_postfix": "",
     "delete_cmd_prefix": "del ",
     "library": "var_list.py",
     "varRefreshCmd": "print(var_dic_list())"
    },
    "r": {
     "delete_cmd_postfix": ") ",
     "delete_cmd_prefix": "rm(",
     "library": "var_list.r",
     "varRefreshCmd": "cat(var_dic_list()) "
    }
   },
   "types_to_exclude": [
    "module",
    "function",
    "builtin_function_or_method",
    "instance",
    "_Feature"
   ],
   "window_display": false
  }
 },
 "nbformat": 4,
 "nbformat_minor": 2
}
